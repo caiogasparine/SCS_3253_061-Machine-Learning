{
  "nbformat": 4,
  "nbformat_minor": 0,
  "metadata": {
    "colab": {
      "provenance": [],
      "toc_visible": true,
      "include_colab_link": true
    },
    "kernelspec": {
      "name": "python3",
      "display_name": "Python 3"
    },
    "language_info": {
      "name": "python"
    }
  },
  "cells": [
    {
      "cell_type": "markdown",
      "metadata": {
        "id": "view-in-github",
        "colab_type": "text"
      },
      "source": [
        "<a href=\"https://colab.research.google.com/github/caiogasparine/SCS_3253_061-Machine-Learning/blob/main/Toronto_Police_Major_Crime_Indicators_MCI.ipynb\" target=\"_parent\"><img src=\"https://colab.research.google.com/assets/colab-badge.svg\" alt=\"Open In Colab\"/></a>"
      ]
    },
    {
      "cell_type": "markdown",
      "source": [
        "# **Source of Data: Major Crime Indicators (MCI) Historical**\n",
        "\n",
        "This dataset includes all Major Crime Indicators (MCI) occurrences by reported date and related offences from 2014 to June 30, 2022.\n",
        "\n",
        "https://data.torontopolice.on.ca/pages/major-crime-indicators\n"
      ],
      "metadata": {
        "id": "mahEdbqwl1m3"
      }
    },
    {
      "cell_type": "markdown",
      "source": [
        "# 1 - Big Picture / Frame the problem \n",
        "University of Toronto\n",
        "SCS 3253-061 - Machine Learning\n",
        "Saeid Abolfazli\n",
        "\n",
        "**Group Members:**\n",
        "*   Caio Gasparine\n",
        "*   Fabio Queiroz\n",
        "*   Olivier Sangam\n",
        "*   Illidan Yuan"
      ],
      "metadata": {
        "id": "ejKoObZuopRY"
      }
    },
    {
      "cell_type": "markdown",
      "metadata": {
        "id": "ejJ07r_nlIEA"
      },
      "source": [
        "# 2 - Get the data / Develop the pipeline\n",
        "\n",
        "Data profiling was done to ensure data quality and integrity. Contents of each field were analyzed for any anomalies and Null values. None we found."
      ]
    },
    {
      "cell_type": "code",
      "source": [
        "### Loading the main used libraries\n",
        "from datetime import date\n",
        "import numpy as np\n",
        "import pandas as pd\n",
        "import statsmodels.formula.api as sm\n",
        "from pandas.plotting import scatter_matrix\n",
        "from google.colab import drive\n",
        "drive.mount('/content/drive')"
      ],
      "metadata": {
        "colab": {
          "base_uri": "https://localhost:8080/"
        },
        "id": "gXHNCSMTo1pP",
        "outputId": "a034c7ea-ea44-45ad-f939-a05ef7dd59e9"
      },
      "execution_count": 2,
      "outputs": [
        {
          "output_type": "stream",
          "name": "stdout",
          "text": [
            "Mounted at /content/drive\n"
          ]
        }
      ]
    },
    {
      "cell_type": "code",
      "source": [
        "### Change the code here, depending on your dataset location\n",
        "### data = pd.read_csv('Major_Crime_Indicators.csv', header=0)\n",
        "data = pd.read_csv('/content/drive/MyDrive/Colab Notebooks/Major_Crime_Indicators.csv', header=0)"
      ],
      "metadata": {
        "id": "JFvDBVSupMdo"
      },
      "execution_count": 3,
      "outputs": []
    },
    {
      "cell_type": "markdown",
      "source": [],
      "metadata": {
        "id": "CHRhX6s8zmCH"
      }
    },
    {
      "cell_type": "code",
      "source": [
        "data.shape"
      ],
      "metadata": {
        "colab": {
          "base_uri": "https://localhost:8080/"
        },
        "id": "tMRn1wcZrwh-",
        "outputId": "715777a1-b815-4b4e-839a-82257d20f6ec"
      },
      "execution_count": 4,
      "outputs": [
        {
          "output_type": "execute_result",
          "data": {
            "text/plain": [
              "(301233, 30)"
            ]
          },
          "metadata": {},
          "execution_count": 4
        }
      ]
    },
    {
      "cell_type": "code",
      "source": [
        "data.columns"
      ],
      "metadata": {
        "colab": {
          "base_uri": "https://localhost:8080/"
        },
        "id": "NaLj-LAYz2mv",
        "outputId": "9b8966db-1b0d-4dd2-b368-a9d497a19e87"
      },
      "execution_count": 5,
      "outputs": [
        {
          "output_type": "execute_result",
          "data": {
            "text/plain": [
              "Index(['X', 'Y', 'Index_', 'event_unique_id', 'Division', 'occurrencedate',\n",
              "       'reporteddate', 'location_type', 'premises_type', 'ucr_code', 'ucr_ext',\n",
              "       'offence', 'reportedyear', 'reportedmonth', 'reportedday',\n",
              "       'reporteddayofyear', 'reporteddayofweek', 'reportedhour',\n",
              "       'occurrenceyear', 'occurrencemonth', 'occurrenceday',\n",
              "       'occurrencedayofyear', 'occurrencedayofweek', 'occurrencehour',\n",
              "       'mci_category', 'Hood_ID', 'Neighbourhood', 'Longitude', 'Latitude',\n",
              "       'ObjectId'],\n",
              "      dtype='object')"
            ]
          },
          "metadata": {},
          "execution_count": 5
        }
      ]
    },
    {
      "cell_type": "markdown",
      "source": [
        "# 3- Explore and visualize the data to gain insights\n"
      ],
      "metadata": {
        "id": "1GAaeAiAjEak"
      }
    },
    {
      "cell_type": "code",
      "source": [
        "data.head(5)"
      ],
      "metadata": {
        "colab": {
          "base_uri": "https://localhost:8080/",
          "height": 508
        },
        "id": "c2mnlsImz-4e",
        "outputId": "04c16334-4c98-4a43-e7a8-0cc1ae797dd0"
      },
      "execution_count": 6,
      "outputs": [
        {
          "output_type": "execute_result",
          "data": {
            "text/plain": [
              "              X             Y  Index_ event_unique_id Division  \\\n",
              "0 -8.850398e+06  5.429359e+06     201  GO-20141273318      D31   \n",
              "1 -8.818405e+06  5.436836e+06     202  GO-20141274349      D42   \n",
              "2 -8.853791e+06  5.402071e+06     203  GO-20141274052      D22   \n",
              "3 -8.832822e+06  5.419628e+06     204  GO-20141276966      D53   \n",
              "4 -8.853452e+06  5.410706e+06     205  GO-20141274457      D22   \n",
              "\n",
              "           occurrencedate            reporteddate  \\\n",
              "0  2014/01/03 05:00:00+00  2014/01/03 05:00:00+00   \n",
              "1  2014/01/03 05:00:00+00  2014/01/03 05:00:00+00   \n",
              "2  2014/01/03 05:00:00+00  2014/01/03 05:00:00+00   \n",
              "3  2014/01/03 05:00:00+00  2014/01/03 05:00:00+00   \n",
              "4  2014/01/03 05:00:00+00  2014/01/03 05:00:00+00   \n",
              "\n",
              "                                       location_type premises_type  ucr_code  \\\n",
              "0                   Apartment (Rooming House, Condo)     Apartment      1430   \n",
              "1  Single Home, House (Attach Garage, Cottage, Mo...         House      2120   \n",
              "2                  Open Areas (Lakes, Parks, Rivers)       Outside      1430   \n",
              "3  Other Commercial / Corporate Places (For Profi...    Commercial      2130   \n",
              "4                                 Convenience Stores    Commercial      1610   \n",
              "\n",
              "   ...  occurrenceday occurrencedayofyear  occurrencedayofweek occurrencehour  \\\n",
              "0  ...            3.0                 3.0           Friday                 11   \n",
              "1  ...            3.0                 3.0           Friday                 14   \n",
              "2  ...            3.0                 3.0           Friday                 13   \n",
              "3  ...            3.0                 3.0           Friday                 12   \n",
              "4  ...            3.0                 3.0           Friday                 14   \n",
              "\n",
              "      mci_category  Hood_ID               Neighbourhood  Longitude   Latitude  \\\n",
              "0          Assault       27     York University Heights -79.504475  43.766371   \n",
              "1  Break and Enter      132                     Malvern -79.217083  43.814861   \n",
              "2          Assault       19                 Long Branch -79.534957  43.589085   \n",
              "3       Theft Over       55            Thorncliffe Park -79.346588  43.703212   \n",
              "4          Robbery       14  Islington-City Centre West -79.531916  43.645247   \n",
              "\n",
              "  ObjectId  \n",
              "0        1  \n",
              "1        2  \n",
              "2        3  \n",
              "3        4  \n",
              "4        5  \n",
              "\n",
              "[5 rows x 30 columns]"
            ],
            "text/html": [
              "\n",
              "  <div id=\"df-371cec92-60b6-4d4b-bbfd-af70b7944cf9\">\n",
              "    <div class=\"colab-df-container\">\n",
              "      <div>\n",
              "<style scoped>\n",
              "    .dataframe tbody tr th:only-of-type {\n",
              "        vertical-align: middle;\n",
              "    }\n",
              "\n",
              "    .dataframe tbody tr th {\n",
              "        vertical-align: top;\n",
              "    }\n",
              "\n",
              "    .dataframe thead th {\n",
              "        text-align: right;\n",
              "    }\n",
              "</style>\n",
              "<table border=\"1\" class=\"dataframe\">\n",
              "  <thead>\n",
              "    <tr style=\"text-align: right;\">\n",
              "      <th></th>\n",
              "      <th>X</th>\n",
              "      <th>Y</th>\n",
              "      <th>Index_</th>\n",
              "      <th>event_unique_id</th>\n",
              "      <th>Division</th>\n",
              "      <th>occurrencedate</th>\n",
              "      <th>reporteddate</th>\n",
              "      <th>location_type</th>\n",
              "      <th>premises_type</th>\n",
              "      <th>ucr_code</th>\n",
              "      <th>...</th>\n",
              "      <th>occurrenceday</th>\n",
              "      <th>occurrencedayofyear</th>\n",
              "      <th>occurrencedayofweek</th>\n",
              "      <th>occurrencehour</th>\n",
              "      <th>mci_category</th>\n",
              "      <th>Hood_ID</th>\n",
              "      <th>Neighbourhood</th>\n",
              "      <th>Longitude</th>\n",
              "      <th>Latitude</th>\n",
              "      <th>ObjectId</th>\n",
              "    </tr>\n",
              "  </thead>\n",
              "  <tbody>\n",
              "    <tr>\n",
              "      <th>0</th>\n",
              "      <td>-8.850398e+06</td>\n",
              "      <td>5.429359e+06</td>\n",
              "      <td>201</td>\n",
              "      <td>GO-20141273318</td>\n",
              "      <td>D31</td>\n",
              "      <td>2014/01/03 05:00:00+00</td>\n",
              "      <td>2014/01/03 05:00:00+00</td>\n",
              "      <td>Apartment (Rooming House, Condo)</td>\n",
              "      <td>Apartment</td>\n",
              "      <td>1430</td>\n",
              "      <td>...</td>\n",
              "      <td>3.0</td>\n",
              "      <td>3.0</td>\n",
              "      <td>Friday</td>\n",
              "      <td>11</td>\n",
              "      <td>Assault</td>\n",
              "      <td>27</td>\n",
              "      <td>York University Heights</td>\n",
              "      <td>-79.504475</td>\n",
              "      <td>43.766371</td>\n",
              "      <td>1</td>\n",
              "    </tr>\n",
              "    <tr>\n",
              "      <th>1</th>\n",
              "      <td>-8.818405e+06</td>\n",
              "      <td>5.436836e+06</td>\n",
              "      <td>202</td>\n",
              "      <td>GO-20141274349</td>\n",
              "      <td>D42</td>\n",
              "      <td>2014/01/03 05:00:00+00</td>\n",
              "      <td>2014/01/03 05:00:00+00</td>\n",
              "      <td>Single Home, House (Attach Garage, Cottage, Mo...</td>\n",
              "      <td>House</td>\n",
              "      <td>2120</td>\n",
              "      <td>...</td>\n",
              "      <td>3.0</td>\n",
              "      <td>3.0</td>\n",
              "      <td>Friday</td>\n",
              "      <td>14</td>\n",
              "      <td>Break and Enter</td>\n",
              "      <td>132</td>\n",
              "      <td>Malvern</td>\n",
              "      <td>-79.217083</td>\n",
              "      <td>43.814861</td>\n",
              "      <td>2</td>\n",
              "    </tr>\n",
              "    <tr>\n",
              "      <th>2</th>\n",
              "      <td>-8.853791e+06</td>\n",
              "      <td>5.402071e+06</td>\n",
              "      <td>203</td>\n",
              "      <td>GO-20141274052</td>\n",
              "      <td>D22</td>\n",
              "      <td>2014/01/03 05:00:00+00</td>\n",
              "      <td>2014/01/03 05:00:00+00</td>\n",
              "      <td>Open Areas (Lakes, Parks, Rivers)</td>\n",
              "      <td>Outside</td>\n",
              "      <td>1430</td>\n",
              "      <td>...</td>\n",
              "      <td>3.0</td>\n",
              "      <td>3.0</td>\n",
              "      <td>Friday</td>\n",
              "      <td>13</td>\n",
              "      <td>Assault</td>\n",
              "      <td>19</td>\n",
              "      <td>Long Branch</td>\n",
              "      <td>-79.534957</td>\n",
              "      <td>43.589085</td>\n",
              "      <td>3</td>\n",
              "    </tr>\n",
              "    <tr>\n",
              "      <th>3</th>\n",
              "      <td>-8.832822e+06</td>\n",
              "      <td>5.419628e+06</td>\n",
              "      <td>204</td>\n",
              "      <td>GO-20141276966</td>\n",
              "      <td>D53</td>\n",
              "      <td>2014/01/03 05:00:00+00</td>\n",
              "      <td>2014/01/03 05:00:00+00</td>\n",
              "      <td>Other Commercial / Corporate Places (For Profi...</td>\n",
              "      <td>Commercial</td>\n",
              "      <td>2130</td>\n",
              "      <td>...</td>\n",
              "      <td>3.0</td>\n",
              "      <td>3.0</td>\n",
              "      <td>Friday</td>\n",
              "      <td>12</td>\n",
              "      <td>Theft Over</td>\n",
              "      <td>55</td>\n",
              "      <td>Thorncliffe Park</td>\n",
              "      <td>-79.346588</td>\n",
              "      <td>43.703212</td>\n",
              "      <td>4</td>\n",
              "    </tr>\n",
              "    <tr>\n",
              "      <th>4</th>\n",
              "      <td>-8.853452e+06</td>\n",
              "      <td>5.410706e+06</td>\n",
              "      <td>205</td>\n",
              "      <td>GO-20141274457</td>\n",
              "      <td>D22</td>\n",
              "      <td>2014/01/03 05:00:00+00</td>\n",
              "      <td>2014/01/03 05:00:00+00</td>\n",
              "      <td>Convenience Stores</td>\n",
              "      <td>Commercial</td>\n",
              "      <td>1610</td>\n",
              "      <td>...</td>\n",
              "      <td>3.0</td>\n",
              "      <td>3.0</td>\n",
              "      <td>Friday</td>\n",
              "      <td>14</td>\n",
              "      <td>Robbery</td>\n",
              "      <td>14</td>\n",
              "      <td>Islington-City Centre West</td>\n",
              "      <td>-79.531916</td>\n",
              "      <td>43.645247</td>\n",
              "      <td>5</td>\n",
              "    </tr>\n",
              "  </tbody>\n",
              "</table>\n",
              "<p>5 rows × 30 columns</p>\n",
              "</div>\n",
              "      <button class=\"colab-df-convert\" onclick=\"convertToInteractive('df-371cec92-60b6-4d4b-bbfd-af70b7944cf9')\"\n",
              "              title=\"Convert this dataframe to an interactive table.\"\n",
              "              style=\"display:none;\">\n",
              "        \n",
              "  <svg xmlns=\"http://www.w3.org/2000/svg\" height=\"24px\"viewBox=\"0 0 24 24\"\n",
              "       width=\"24px\">\n",
              "    <path d=\"M0 0h24v24H0V0z\" fill=\"none\"/>\n",
              "    <path d=\"M18.56 5.44l.94 2.06.94-2.06 2.06-.94-2.06-.94-.94-2.06-.94 2.06-2.06.94zm-11 1L8.5 8.5l.94-2.06 2.06-.94-2.06-.94L8.5 2.5l-.94 2.06-2.06.94zm10 10l.94 2.06.94-2.06 2.06-.94-2.06-.94-.94-2.06-.94 2.06-2.06.94z\"/><path d=\"M17.41 7.96l-1.37-1.37c-.4-.4-.92-.59-1.43-.59-.52 0-1.04.2-1.43.59L10.3 9.45l-7.72 7.72c-.78.78-.78 2.05 0 2.83L4 21.41c.39.39.9.59 1.41.59.51 0 1.02-.2 1.41-.59l7.78-7.78 2.81-2.81c.8-.78.8-2.07 0-2.86zM5.41 20L4 18.59l7.72-7.72 1.47 1.35L5.41 20z\"/>\n",
              "  </svg>\n",
              "      </button>\n",
              "      \n",
              "  <style>\n",
              "    .colab-df-container {\n",
              "      display:flex;\n",
              "      flex-wrap:wrap;\n",
              "      gap: 12px;\n",
              "    }\n",
              "\n",
              "    .colab-df-convert {\n",
              "      background-color: #E8F0FE;\n",
              "      border: none;\n",
              "      border-radius: 50%;\n",
              "      cursor: pointer;\n",
              "      display: none;\n",
              "      fill: #1967D2;\n",
              "      height: 32px;\n",
              "      padding: 0 0 0 0;\n",
              "      width: 32px;\n",
              "    }\n",
              "\n",
              "    .colab-df-convert:hover {\n",
              "      background-color: #E2EBFA;\n",
              "      box-shadow: 0px 1px 2px rgba(60, 64, 67, 0.3), 0px 1px 3px 1px rgba(60, 64, 67, 0.15);\n",
              "      fill: #174EA6;\n",
              "    }\n",
              "\n",
              "    [theme=dark] .colab-df-convert {\n",
              "      background-color: #3B4455;\n",
              "      fill: #D2E3FC;\n",
              "    }\n",
              "\n",
              "    [theme=dark] .colab-df-convert:hover {\n",
              "      background-color: #434B5C;\n",
              "      box-shadow: 0px 1px 3px 1px rgba(0, 0, 0, 0.15);\n",
              "      filter: drop-shadow(0px 1px 2px rgba(0, 0, 0, 0.3));\n",
              "      fill: #FFFFFF;\n",
              "    }\n",
              "  </style>\n",
              "\n",
              "      <script>\n",
              "        const buttonEl =\n",
              "          document.querySelector('#df-371cec92-60b6-4d4b-bbfd-af70b7944cf9 button.colab-df-convert');\n",
              "        buttonEl.style.display =\n",
              "          google.colab.kernel.accessAllowed ? 'block' : 'none';\n",
              "\n",
              "        async function convertToInteractive(key) {\n",
              "          const element = document.querySelector('#df-371cec92-60b6-4d4b-bbfd-af70b7944cf9');\n",
              "          const dataTable =\n",
              "            await google.colab.kernel.invokeFunction('convertToInteractive',\n",
              "                                                     [key], {});\n",
              "          if (!dataTable) return;\n",
              "\n",
              "          const docLinkHtml = 'Like what you see? Visit the ' +\n",
              "            '<a target=\"_blank\" href=https://colab.research.google.com/notebooks/data_table.ipynb>data table notebook</a>'\n",
              "            + ' to learn more about interactive tables.';\n",
              "          element.innerHTML = '';\n",
              "          dataTable['output_type'] = 'display_data';\n",
              "          await google.colab.output.renderOutput(dataTable, element);\n",
              "          const docLink = document.createElement('div');\n",
              "          docLink.innerHTML = docLinkHtml;\n",
              "          element.appendChild(docLink);\n",
              "        }\n",
              "      </script>\n",
              "    </div>\n",
              "  </div>\n",
              "  "
            ]
          },
          "metadata": {},
          "execution_count": 6
        }
      ]
    },
    {
      "cell_type": "code",
      "source": [
        "data.info()"
      ],
      "metadata": {
        "colab": {
          "base_uri": "https://localhost:8080/"
        },
        "id": "6hhwSOfmu-tS",
        "outputId": "b265fac0-174a-45aa-b82b-ef8a4ba95411"
      },
      "execution_count": 7,
      "outputs": [
        {
          "output_type": "stream",
          "name": "stdout",
          "text": [
            "<class 'pandas.core.frame.DataFrame'>\n",
            "RangeIndex: 301233 entries, 0 to 301232\n",
            "Data columns (total 30 columns):\n",
            " #   Column               Non-Null Count   Dtype  \n",
            "---  ------               --------------   -----  \n",
            " 0   X                    301233 non-null  float64\n",
            " 1   Y                    301233 non-null  float64\n",
            " 2   Index_               301233 non-null  int64  \n",
            " 3   event_unique_id      301233 non-null  object \n",
            " 4   Division             301233 non-null  object \n",
            " 5   occurrencedate       301233 non-null  object \n",
            " 6   reporteddate         301233 non-null  object \n",
            " 7   location_type        301233 non-null  object \n",
            " 8   premises_type        301233 non-null  object \n",
            " 9   ucr_code             301233 non-null  int64  \n",
            " 10  ucr_ext              301233 non-null  int64  \n",
            " 11  offence              301233 non-null  object \n",
            " 12  reportedyear         301233 non-null  int64  \n",
            " 13  reportedmonth        301233 non-null  object \n",
            " 14  reportedday          301233 non-null  int64  \n",
            " 15  reporteddayofyear    301233 non-null  int64  \n",
            " 16  reporteddayofweek    301233 non-null  object \n",
            " 17  reportedhour         301233 non-null  int64  \n",
            " 18  occurrenceyear       301133 non-null  float64\n",
            " 19  occurrencemonth      301133 non-null  object \n",
            " 20  occurrenceday        301133 non-null  float64\n",
            " 21  occurrencedayofyear  301133 non-null  float64\n",
            " 22  occurrencedayofweek  301133 non-null  object \n",
            " 23  occurrencehour       301233 non-null  int64  \n",
            " 24  mci_category         301233 non-null  object \n",
            " 25  Hood_ID              301233 non-null  object \n",
            " 26  Neighbourhood        301233 non-null  object \n",
            " 27  Longitude            301233 non-null  float64\n",
            " 28  Latitude             301233 non-null  float64\n",
            " 29  ObjectId             301233 non-null  int64  \n",
            "dtypes: float64(7), int64(9), object(14)\n",
            "memory usage: 68.9+ MB\n"
          ]
        }
      ]
    },
    {
      "cell_type": "code",
      "source": [
        "data['mci_category'].value_counts()"
      ],
      "metadata": {
        "colab": {
          "base_uri": "https://localhost:8080/"
        },
        "id": "rk5uDVGuZn2K",
        "outputId": "907a0435-eb4e-4578-f628-566238ec30f7"
      },
      "execution_count": 8,
      "outputs": [
        {
          "output_type": "execute_result",
          "data": {
            "text/plain": [
              "Assault            161833\n",
              "Break and Enter     59440\n",
              "Auto Theft          40794\n",
              "Robbery             29230\n",
              "Theft Over           9936\n",
              "Name: mci_category, dtype: int64"
            ]
          },
          "metadata": {},
          "execution_count": 8
        }
      ]
    },
    {
      "cell_type": "code",
      "source": [
        "data['location_type'].value_counts()"
      ],
      "metadata": {
        "colab": {
          "base_uri": "https://localhost:8080/"
        },
        "id": "0gOu2CZlIFfj",
        "outputId": "e0ae245d-64ce-4c91-d47c-ef80fac77d70"
      },
      "execution_count": 9,
      "outputs": [
        {
          "output_type": "execute_result",
          "data": {
            "text/plain": [
              "Apartment (Rooming House, Condo)                                          72061\n",
              "Single Home, House (Attach Garage, Cottage, Mobile)                       54076\n",
              "Streets, Roads, Highways (Bicycle Path, Private Road)                     47619\n",
              "Other Commercial / Corporate Places (For Profit, Warehouse, Corp. Bldg    34774\n",
              "Parking Lots (Apt., Commercial Or Non-Commercial)                         25322\n",
              "Bar / Restaurant                                                          12031\n",
              "Open Areas (Lakes, Parks, Rivers)                                          6278\n",
              "Schools During Supervised Activity                                         4567\n",
              "Convenience Stores                                                         3851\n",
              "Ttc Subway Station                                                         3648\n",
              "Commercial Dwelling Unit (Hotel, Motel, B & B, Short Term Rental)          3454\n",
              "Private Property Structure (Pool, Shed, Detached Garage)                   2743\n",
              "Hospital / Institutions / Medical Facilities (Clinic, Dentist, Morgue)     2660\n",
              "Schools During Un-Supervised Activity                                      2650\n",
              "Ttc Bus                                                                    2644\n",
              "Other Non Commercial / Corporate Places (Non-Profit, Gov'T, Firehall)      2556\n",
              "Homeless Shelter / Mission                                                 1966\n",
              "Jails / Detention Centres                                                  1891\n",
              "Construction Site (Warehouse, Trailer, Shed)                               1834\n",
              "Bank And Other Financial Institutions (Money Mart, Tsx)                    1789\n",
              "Gas Station (Self, Full, Attached Convenience)                             1607\n",
              "Dealership (Car, Motorcycle, Marine, Trailer, Etc.)                        1520\n",
              "Group Homes (Non-Profit, Halfway House, Social Agency)                     1446\n",
              "Police / Courts (Parole Board, Probation Office)                            851\n",
              "Ttc Bus Stop / Shelter / Loop                                               841\n",
              "Ttc Subway Train                                                            837\n",
              "Unknown                                                                     743\n",
              "Religious Facilities (Synagogue, Church, Convent, Mosque)                   731\n",
              "Pharmacy                                                                    719\n",
              "Nursing Home                                                                694\n",
              "Universities / Colleges                                                     549\n",
              "Retirement Home                                                             512\n",
              "Ttc Street Car                                                              497\n",
              "Go Station                                                                  380\n",
              "Community Group Home                                                        214\n",
              "Other Regional Transit System Vehicle                                       100\n",
              "Other Passenger Train Station                                                97\n",
              "Ttc Light Rail Transit Station                                               94\n",
              "Go Bus                                                                       68\n",
              "Go Train                                                                     60\n",
              "Halfway House                                                                37\n",
              "Ttc Admin Or Support Facility                                                35\n",
              "Other Passenger Train                                                        32\n",
              "Ttc Bus Garage                                                               31\n",
              "Ttc Light Rail Vehicle                                                       29\n",
              "Ttc Subway Tunnel / Outdoor Tracks                                           20\n",
              "Other Train Yard                                                             19\n",
              "Other Train Admin Or Support Facility                                        18\n",
              "Other Train Tracks                                                           17\n",
              "Ttc Wheel Trans Vehicle                                                      11\n",
              "Cargo Train                                                                   8\n",
              "Ttc Support Vehicle                                                           2\n",
              "Name: location_type, dtype: int64"
            ]
          },
          "metadata": {},
          "execution_count": 9
        }
      ]
    },
    {
      "cell_type": "code",
      "source": [
        "data['ucr_code'].value_counts()"
      ],
      "metadata": {
        "colab": {
          "base_uri": "https://localhost:8080/"
        },
        "id": "5rGL5UATK1_u",
        "outputId": "ef72c9e8-985a-4a9d-9c16-7d5b32e22df5"
      },
      "execution_count": 24,
      "outputs": [
        {
          "output_type": "execute_result",
          "data": {
            "text/plain": [
              "1430    110901\n",
              "2120     59416\n",
              "2135     40794\n",
              "1420     34218\n",
              "1610     29229\n",
              "2130      7018\n",
              "1460      5282\n",
              "1480      3486\n",
              "1450      3471\n",
              "1410      2502\n",
              "2132      2423\n",
              "1457      1089\n",
              "1461       559\n",
              "2133       495\n",
              "1455       180\n",
              "1470       106\n",
              "1462        23\n",
              "1440        14\n",
              "2125        13\n",
              "2121        11\n",
              "1475         2\n",
              "1611         1\n",
              "Name: ucr_code, dtype: int64"
            ]
          },
          "metadata": {},
          "execution_count": 24
        }
      ]
    },
    {
      "cell_type": "code",
      "source": [
        "data['premises_type'].value_counts()"
      ],
      "metadata": {
        "colab": {
          "base_uri": "https://localhost:8080/"
        },
        "id": "OXbu1mthLFnN",
        "outputId": "524bcc1d-f8fb-40fb-9e2e-10109bbe9e60"
      },
      "execution_count": 26,
      "outputs": [
        {
          "output_type": "execute_result",
          "data": {
            "text/plain": [
              "Outside        80079\n",
              "Apartment      72061\n",
              "Commercial     60860\n",
              "House          54076\n",
              "Other          17788\n",
              "Transit         8603\n",
              "Educational     7766\n",
              "Name: premises_type, dtype: int64"
            ]
          },
          "metadata": {},
          "execution_count": 26
        }
      ]
    },
    {
      "cell_type": "code",
      "source": [
        "data['offence'].value_counts()"
      ],
      "metadata": {
        "colab": {
          "base_uri": "https://localhost:8080/"
        },
        "id": "7bDl7EcQLR3b",
        "outputId": "76cec4fd-b8e1-499d-c1af-10bb0f9229f7"
      },
      "execution_count": 27,
      "outputs": [
        {
          "output_type": "execute_result",
          "data": {
            "text/plain": [
              "Assault                           110528\n",
              "B&E                                50182\n",
              "Theft Of Motor Vehicle             40794\n",
              "Assault With Weapon                27191\n",
              "Robbery - Mugging                   8393\n",
              "B&E W'Intent                        7311\n",
              "Assault Bodily Harm                 7027\n",
              "Theft Over                          5532\n",
              "Assault Peace Officer               5174\n",
              "Robbery - Other                     4857\n",
              "Robbery With Weapon                 4798\n",
              "Robbery - Business                  4343\n",
              "Assault - Resist/ Prevent Seiz      3018\n",
              "Aggravated Assault                  2483\n",
              "Theft From Motor Vehicle Over       2423\n",
              "Robbery - Swarming                  2289\n",
              "Discharge Firearm With Intent       2003\n",
              "Unlawfully In Dwelling-House        1821\n",
              "Discharge Firearm - Recklessly      1441\n",
              "Theft From Mail / Bag / Key         1197\n",
              "Robbery - Home Invasion             1132\n",
              "Pointing A Firearm                  1089\n",
              "Robbery - Purse Snatch              1039\n",
              "Robbery - Financial Institute        891\n",
              "Robbery - Vehicle Jacking            799\n",
              "Assault Peace Officer Wpn/Cbh        559\n",
              "Theft Over - Shoplifting             495\n",
              "Administering Noxious Thing          466\n",
              "Assault - Force/Thrt/Impede          373\n",
              "Robbery - Delivery Person            277\n",
              "Robbery - Taxi                       258\n",
              "Use Firearm / Immit Commit Off       180\n",
              "Theft Over - Bicycle                 131\n",
              "Theft Over - Distraction             116\n",
              "Disarming Peace/Public Officer       108\n",
              "Crim Negligence Bodily Harm          106\n",
              "B&E Out                              102\n",
              "Robbery - Atm                        102\n",
              "Robbery - Armoured Car                51\n",
              "Theft - Misapprop Funds Over          37\n",
              "Air Gun Or Pistol: Bodily Harm        27\n",
              "Aggravated Aslt Peace Officer         23\n",
              "Aggravated Assault Avails Pros        19\n",
              "Unlawfully Causing Bodily Harm        13\n",
              "B&E - M/Veh To Steal Firearm          13\n",
              "B&E - To Steal Firearm                11\n",
              "Theft Of Utilities Over                5\n",
              "Traps Likely Cause Bodily Harm         2\n",
              "Set/Place Trap/Intend Death/Bh         2\n",
              "Robbery To Steal Firearm               1\n",
              "Hoax Terrorism Causing Bodily          1\n",
              "Name: offence, dtype: int64"
            ]
          },
          "metadata": {},
          "execution_count": 27
        }
      ]
    },
    {
      "cell_type": "code",
      "source": [
        "data.describe()"
      ],
      "metadata": {
        "colab": {
          "base_uri": "https://localhost:8080/",
          "height": 364
        },
        "id": "EKXl7ezQ0Rm2",
        "outputId": "25eb1b17-813c-40e3-ff50-ac42249914d6"
      },
      "execution_count": 10,
      "outputs": [
        {
          "output_type": "execute_result",
          "data": {
            "text/plain": [
              "                  X             Y         Index_       ucr_code  \\\n",
              "count  3.012330e+05  3.012330e+05  301233.000000  301233.000000   \n",
              "mean  -8.724562e+06  5.350375e+06  150617.000000    1702.422928   \n",
              "std    9.966746e+05  6.112283e+05   86958.621157     326.260102   \n",
              "min   -8.910331e+06  0.000000e+00       1.000000    1410.000000   \n",
              "25%   -8.846681e+06  5.412946e+06   75309.000000    1430.000000   \n",
              "50%   -8.838015e+06  5.419000e+06  150617.000000    1450.000000   \n",
              "75%   -8.829868e+06  5.426986e+06  225925.000000    2120.000000   \n",
              "max    0.000000e+00  5.517228e+06  301233.000000    2135.000000   \n",
              "\n",
              "             ucr_ext   reportedyear    reportedday  reporteddayofyear  \\\n",
              "count  301233.000000  301233.000000  301233.000000      301233.000000   \n",
              "mean      146.565585    2017.876713      15.736659         180.765756   \n",
              "std        51.988967       2.436940       8.766766         103.717225   \n",
              "min       100.000000    2014.000000       1.000000           1.000000   \n",
              "25%       100.000000    2016.000000       8.000000          92.000000   \n",
              "50%       100.000000    2018.000000      16.000000         178.000000   \n",
              "75%       200.000000    2020.000000      23.000000         270.000000   \n",
              "max       230.000000    2022.000000      31.000000         366.000000   \n",
              "\n",
              "        reportedhour  occurrenceyear  occurrenceday  occurrencedayofyear  \\\n",
              "count  301233.000000   301133.000000  301133.000000        301133.000000   \n",
              "mean       12.808786     2017.822852      15.456476           180.544766   \n",
              "std         6.502562        2.475716       8.914754           104.141362   \n",
              "min         0.000000     2000.000000       1.000000             1.000000   \n",
              "25%         8.000000     2016.000000       8.000000            92.000000   \n",
              "50%        13.000000     2018.000000      15.000000           178.000000   \n",
              "75%        18.000000     2020.000000      23.000000           270.000000   \n",
              "max        23.000000     2022.000000      31.000000           366.000000   \n",
              "\n",
              "       occurrencehour      Longitude       Latitude       ObjectId  \n",
              "count   301233.000000  301233.000000  301233.000000  301233.000000  \n",
              "mean        12.601591     -78.374071      43.143874  150617.000000  \n",
              "std          7.243753       8.953280       4.928613   86958.621157  \n",
              "min          0.000000     -80.042866       0.000000       1.000000  \n",
              "25%          7.000000     -79.471086      43.659806   75309.000000  \n",
              "50%         14.000000     -79.393238      43.699132  150617.000000  \n",
              "75%         19.000000     -79.320056      43.750978  225925.000000  \n",
              "max         23.000000       0.000000      44.333691  301233.000000  "
            ],
            "text/html": [
              "\n",
              "  <div id=\"df-46a173a8-e2f6-4330-afa0-ec6a0eea1220\">\n",
              "    <div class=\"colab-df-container\">\n",
              "      <div>\n",
              "<style scoped>\n",
              "    .dataframe tbody tr th:only-of-type {\n",
              "        vertical-align: middle;\n",
              "    }\n",
              "\n",
              "    .dataframe tbody tr th {\n",
              "        vertical-align: top;\n",
              "    }\n",
              "\n",
              "    .dataframe thead th {\n",
              "        text-align: right;\n",
              "    }\n",
              "</style>\n",
              "<table border=\"1\" class=\"dataframe\">\n",
              "  <thead>\n",
              "    <tr style=\"text-align: right;\">\n",
              "      <th></th>\n",
              "      <th>X</th>\n",
              "      <th>Y</th>\n",
              "      <th>Index_</th>\n",
              "      <th>ucr_code</th>\n",
              "      <th>ucr_ext</th>\n",
              "      <th>reportedyear</th>\n",
              "      <th>reportedday</th>\n",
              "      <th>reporteddayofyear</th>\n",
              "      <th>reportedhour</th>\n",
              "      <th>occurrenceyear</th>\n",
              "      <th>occurrenceday</th>\n",
              "      <th>occurrencedayofyear</th>\n",
              "      <th>occurrencehour</th>\n",
              "      <th>Longitude</th>\n",
              "      <th>Latitude</th>\n",
              "      <th>ObjectId</th>\n",
              "    </tr>\n",
              "  </thead>\n",
              "  <tbody>\n",
              "    <tr>\n",
              "      <th>count</th>\n",
              "      <td>3.012330e+05</td>\n",
              "      <td>3.012330e+05</td>\n",
              "      <td>301233.000000</td>\n",
              "      <td>301233.000000</td>\n",
              "      <td>301233.000000</td>\n",
              "      <td>301233.000000</td>\n",
              "      <td>301233.000000</td>\n",
              "      <td>301233.000000</td>\n",
              "      <td>301233.000000</td>\n",
              "      <td>301133.000000</td>\n",
              "      <td>301133.000000</td>\n",
              "      <td>301133.000000</td>\n",
              "      <td>301233.000000</td>\n",
              "      <td>301233.000000</td>\n",
              "      <td>301233.000000</td>\n",
              "      <td>301233.000000</td>\n",
              "    </tr>\n",
              "    <tr>\n",
              "      <th>mean</th>\n",
              "      <td>-8.724562e+06</td>\n",
              "      <td>5.350375e+06</td>\n",
              "      <td>150617.000000</td>\n",
              "      <td>1702.422928</td>\n",
              "      <td>146.565585</td>\n",
              "      <td>2017.876713</td>\n",
              "      <td>15.736659</td>\n",
              "      <td>180.765756</td>\n",
              "      <td>12.808786</td>\n",
              "      <td>2017.822852</td>\n",
              "      <td>15.456476</td>\n",
              "      <td>180.544766</td>\n",
              "      <td>12.601591</td>\n",
              "      <td>-78.374071</td>\n",
              "      <td>43.143874</td>\n",
              "      <td>150617.000000</td>\n",
              "    </tr>\n",
              "    <tr>\n",
              "      <th>std</th>\n",
              "      <td>9.966746e+05</td>\n",
              "      <td>6.112283e+05</td>\n",
              "      <td>86958.621157</td>\n",
              "      <td>326.260102</td>\n",
              "      <td>51.988967</td>\n",
              "      <td>2.436940</td>\n",
              "      <td>8.766766</td>\n",
              "      <td>103.717225</td>\n",
              "      <td>6.502562</td>\n",
              "      <td>2.475716</td>\n",
              "      <td>8.914754</td>\n",
              "      <td>104.141362</td>\n",
              "      <td>7.243753</td>\n",
              "      <td>8.953280</td>\n",
              "      <td>4.928613</td>\n",
              "      <td>86958.621157</td>\n",
              "    </tr>\n",
              "    <tr>\n",
              "      <th>min</th>\n",
              "      <td>-8.910331e+06</td>\n",
              "      <td>0.000000e+00</td>\n",
              "      <td>1.000000</td>\n",
              "      <td>1410.000000</td>\n",
              "      <td>100.000000</td>\n",
              "      <td>2014.000000</td>\n",
              "      <td>1.000000</td>\n",
              "      <td>1.000000</td>\n",
              "      <td>0.000000</td>\n",
              "      <td>2000.000000</td>\n",
              "      <td>1.000000</td>\n",
              "      <td>1.000000</td>\n",
              "      <td>0.000000</td>\n",
              "      <td>-80.042866</td>\n",
              "      <td>0.000000</td>\n",
              "      <td>1.000000</td>\n",
              "    </tr>\n",
              "    <tr>\n",
              "      <th>25%</th>\n",
              "      <td>-8.846681e+06</td>\n",
              "      <td>5.412946e+06</td>\n",
              "      <td>75309.000000</td>\n",
              "      <td>1430.000000</td>\n",
              "      <td>100.000000</td>\n",
              "      <td>2016.000000</td>\n",
              "      <td>8.000000</td>\n",
              "      <td>92.000000</td>\n",
              "      <td>8.000000</td>\n",
              "      <td>2016.000000</td>\n",
              "      <td>8.000000</td>\n",
              "      <td>92.000000</td>\n",
              "      <td>7.000000</td>\n",
              "      <td>-79.471086</td>\n",
              "      <td>43.659806</td>\n",
              "      <td>75309.000000</td>\n",
              "    </tr>\n",
              "    <tr>\n",
              "      <th>50%</th>\n",
              "      <td>-8.838015e+06</td>\n",
              "      <td>5.419000e+06</td>\n",
              "      <td>150617.000000</td>\n",
              "      <td>1450.000000</td>\n",
              "      <td>100.000000</td>\n",
              "      <td>2018.000000</td>\n",
              "      <td>16.000000</td>\n",
              "      <td>178.000000</td>\n",
              "      <td>13.000000</td>\n",
              "      <td>2018.000000</td>\n",
              "      <td>15.000000</td>\n",
              "      <td>178.000000</td>\n",
              "      <td>14.000000</td>\n",
              "      <td>-79.393238</td>\n",
              "      <td>43.699132</td>\n",
              "      <td>150617.000000</td>\n",
              "    </tr>\n",
              "    <tr>\n",
              "      <th>75%</th>\n",
              "      <td>-8.829868e+06</td>\n",
              "      <td>5.426986e+06</td>\n",
              "      <td>225925.000000</td>\n",
              "      <td>2120.000000</td>\n",
              "      <td>200.000000</td>\n",
              "      <td>2020.000000</td>\n",
              "      <td>23.000000</td>\n",
              "      <td>270.000000</td>\n",
              "      <td>18.000000</td>\n",
              "      <td>2020.000000</td>\n",
              "      <td>23.000000</td>\n",
              "      <td>270.000000</td>\n",
              "      <td>19.000000</td>\n",
              "      <td>-79.320056</td>\n",
              "      <td>43.750978</td>\n",
              "      <td>225925.000000</td>\n",
              "    </tr>\n",
              "    <tr>\n",
              "      <th>max</th>\n",
              "      <td>0.000000e+00</td>\n",
              "      <td>5.517228e+06</td>\n",
              "      <td>301233.000000</td>\n",
              "      <td>2135.000000</td>\n",
              "      <td>230.000000</td>\n",
              "      <td>2022.000000</td>\n",
              "      <td>31.000000</td>\n",
              "      <td>366.000000</td>\n",
              "      <td>23.000000</td>\n",
              "      <td>2022.000000</td>\n",
              "      <td>31.000000</td>\n",
              "      <td>366.000000</td>\n",
              "      <td>23.000000</td>\n",
              "      <td>0.000000</td>\n",
              "      <td>44.333691</td>\n",
              "      <td>301233.000000</td>\n",
              "    </tr>\n",
              "  </tbody>\n",
              "</table>\n",
              "</div>\n",
              "      <button class=\"colab-df-convert\" onclick=\"convertToInteractive('df-46a173a8-e2f6-4330-afa0-ec6a0eea1220')\"\n",
              "              title=\"Convert this dataframe to an interactive table.\"\n",
              "              style=\"display:none;\">\n",
              "        \n",
              "  <svg xmlns=\"http://www.w3.org/2000/svg\" height=\"24px\"viewBox=\"0 0 24 24\"\n",
              "       width=\"24px\">\n",
              "    <path d=\"M0 0h24v24H0V0z\" fill=\"none\"/>\n",
              "    <path d=\"M18.56 5.44l.94 2.06.94-2.06 2.06-.94-2.06-.94-.94-2.06-.94 2.06-2.06.94zm-11 1L8.5 8.5l.94-2.06 2.06-.94-2.06-.94L8.5 2.5l-.94 2.06-2.06.94zm10 10l.94 2.06.94-2.06 2.06-.94-2.06-.94-.94-2.06-.94 2.06-2.06.94z\"/><path d=\"M17.41 7.96l-1.37-1.37c-.4-.4-.92-.59-1.43-.59-.52 0-1.04.2-1.43.59L10.3 9.45l-7.72 7.72c-.78.78-.78 2.05 0 2.83L4 21.41c.39.39.9.59 1.41.59.51 0 1.02-.2 1.41-.59l7.78-7.78 2.81-2.81c.8-.78.8-2.07 0-2.86zM5.41 20L4 18.59l7.72-7.72 1.47 1.35L5.41 20z\"/>\n",
              "  </svg>\n",
              "      </button>\n",
              "      \n",
              "  <style>\n",
              "    .colab-df-container {\n",
              "      display:flex;\n",
              "      flex-wrap:wrap;\n",
              "      gap: 12px;\n",
              "    }\n",
              "\n",
              "    .colab-df-convert {\n",
              "      background-color: #E8F0FE;\n",
              "      border: none;\n",
              "      border-radius: 50%;\n",
              "      cursor: pointer;\n",
              "      display: none;\n",
              "      fill: #1967D2;\n",
              "      height: 32px;\n",
              "      padding: 0 0 0 0;\n",
              "      width: 32px;\n",
              "    }\n",
              "\n",
              "    .colab-df-convert:hover {\n",
              "      background-color: #E2EBFA;\n",
              "      box-shadow: 0px 1px 2px rgba(60, 64, 67, 0.3), 0px 1px 3px 1px rgba(60, 64, 67, 0.15);\n",
              "      fill: #174EA6;\n",
              "    }\n",
              "\n",
              "    [theme=dark] .colab-df-convert {\n",
              "      background-color: #3B4455;\n",
              "      fill: #D2E3FC;\n",
              "    }\n",
              "\n",
              "    [theme=dark] .colab-df-convert:hover {\n",
              "      background-color: #434B5C;\n",
              "      box-shadow: 0px 1px 3px 1px rgba(0, 0, 0, 0.15);\n",
              "      filter: drop-shadow(0px 1px 2px rgba(0, 0, 0, 0.3));\n",
              "      fill: #FFFFFF;\n",
              "    }\n",
              "  </style>\n",
              "\n",
              "      <script>\n",
              "        const buttonEl =\n",
              "          document.querySelector('#df-46a173a8-e2f6-4330-afa0-ec6a0eea1220 button.colab-df-convert');\n",
              "        buttonEl.style.display =\n",
              "          google.colab.kernel.accessAllowed ? 'block' : 'none';\n",
              "\n",
              "        async function convertToInteractive(key) {\n",
              "          const element = document.querySelector('#df-46a173a8-e2f6-4330-afa0-ec6a0eea1220');\n",
              "          const dataTable =\n",
              "            await google.colab.kernel.invokeFunction('convertToInteractive',\n",
              "                                                     [key], {});\n",
              "          if (!dataTable) return;\n",
              "\n",
              "          const docLinkHtml = 'Like what you see? Visit the ' +\n",
              "            '<a target=\"_blank\" href=https://colab.research.google.com/notebooks/data_table.ipynb>data table notebook</a>'\n",
              "            + ' to learn more about interactive tables.';\n",
              "          element.innerHTML = '';\n",
              "          dataTable['output_type'] = 'display_data';\n",
              "          await google.colab.output.renderOutput(dataTable, element);\n",
              "          const docLink = document.createElement('div');\n",
              "          docLink.innerHTML = docLinkHtml;\n",
              "          element.appendChild(docLink);\n",
              "        }\n",
              "      </script>\n",
              "    </div>\n",
              "  </div>\n",
              "  "
            ]
          },
          "metadata": {},
          "execution_count": 10
        }
      ]
    },
    {
      "cell_type": "code",
      "source": [
        "# Check if any column has missing values (\"False\" = not missing - \"True\" = missing)\n",
        "data.isnull().any()"
      ],
      "metadata": {
        "colab": {
          "base_uri": "https://localhost:8080/"
        },
        "id": "TGdgOUMF0fPQ",
        "outputId": "a7d60863-c722-4a11-a8d8-24b09596b355"
      },
      "execution_count": 11,
      "outputs": [
        {
          "output_type": "execute_result",
          "data": {
            "text/plain": [
              "X                      False\n",
              "Y                      False\n",
              "Index_                 False\n",
              "event_unique_id        False\n",
              "Division               False\n",
              "occurrencedate         False\n",
              "reporteddate           False\n",
              "location_type          False\n",
              "premises_type          False\n",
              "ucr_code               False\n",
              "ucr_ext                False\n",
              "offence                False\n",
              "reportedyear           False\n",
              "reportedmonth          False\n",
              "reportedday            False\n",
              "reporteddayofyear      False\n",
              "reporteddayofweek      False\n",
              "reportedhour           False\n",
              "occurrenceyear          True\n",
              "occurrencemonth         True\n",
              "occurrenceday           True\n",
              "occurrencedayofyear     True\n",
              "occurrencedayofweek     True\n",
              "occurrencehour         False\n",
              "mci_category           False\n",
              "Hood_ID                False\n",
              "Neighbourhood          False\n",
              "Longitude              False\n",
              "Latitude               False\n",
              "ObjectId               False\n",
              "dtype: bool"
            ]
          },
          "metadata": {},
          "execution_count": 11
        }
      ]
    },
    {
      "cell_type": "code",
      "source": [
        "data[['mci_category','offence','ucr_ext']]"
      ],
      "metadata": {
        "colab": {
          "base_uri": "https://localhost:8080/",
          "height": 423
        },
        "id": "JXOepy8qcKcD",
        "outputId": "cc525f4d-f3b3-4fbe-920c-dc053db14392"
      },
      "execution_count": 12,
      "outputs": [
        {
          "output_type": "execute_result",
          "data": {
            "text/plain": [
              "           mci_category                 offence  ucr_ext\n",
              "0               Assault                 Assault      100\n",
              "1       Break and Enter                     B&E      200\n",
              "2               Assault                 Assault      100\n",
              "3            Theft Over              Theft Over      210\n",
              "4               Robbery      Robbery - Business      210\n",
              "...                 ...                     ...      ...\n",
              "301228       Auto Theft  Theft Of Motor Vehicle      210\n",
              "301229       Auto Theft  Theft Of Motor Vehicle      210\n",
              "301230       Auto Theft  Theft Of Motor Vehicle      210\n",
              "301231       Auto Theft  Theft Of Motor Vehicle      210\n",
              "301232       Auto Theft  Theft Of Motor Vehicle      210\n",
              "\n",
              "[301233 rows x 3 columns]"
            ],
            "text/html": [
              "\n",
              "  <div id=\"df-f3dfee3a-1221-40cd-86de-463249ecc4db\">\n",
              "    <div class=\"colab-df-container\">\n",
              "      <div>\n",
              "<style scoped>\n",
              "    .dataframe tbody tr th:only-of-type {\n",
              "        vertical-align: middle;\n",
              "    }\n",
              "\n",
              "    .dataframe tbody tr th {\n",
              "        vertical-align: top;\n",
              "    }\n",
              "\n",
              "    .dataframe thead th {\n",
              "        text-align: right;\n",
              "    }\n",
              "</style>\n",
              "<table border=\"1\" class=\"dataframe\">\n",
              "  <thead>\n",
              "    <tr style=\"text-align: right;\">\n",
              "      <th></th>\n",
              "      <th>mci_category</th>\n",
              "      <th>offence</th>\n",
              "      <th>ucr_ext</th>\n",
              "    </tr>\n",
              "  </thead>\n",
              "  <tbody>\n",
              "    <tr>\n",
              "      <th>0</th>\n",
              "      <td>Assault</td>\n",
              "      <td>Assault</td>\n",
              "      <td>100</td>\n",
              "    </tr>\n",
              "    <tr>\n",
              "      <th>1</th>\n",
              "      <td>Break and Enter</td>\n",
              "      <td>B&amp;E</td>\n",
              "      <td>200</td>\n",
              "    </tr>\n",
              "    <tr>\n",
              "      <th>2</th>\n",
              "      <td>Assault</td>\n",
              "      <td>Assault</td>\n",
              "      <td>100</td>\n",
              "    </tr>\n",
              "    <tr>\n",
              "      <th>3</th>\n",
              "      <td>Theft Over</td>\n",
              "      <td>Theft Over</td>\n",
              "      <td>210</td>\n",
              "    </tr>\n",
              "    <tr>\n",
              "      <th>4</th>\n",
              "      <td>Robbery</td>\n",
              "      <td>Robbery - Business</td>\n",
              "      <td>210</td>\n",
              "    </tr>\n",
              "    <tr>\n",
              "      <th>...</th>\n",
              "      <td>...</td>\n",
              "      <td>...</td>\n",
              "      <td>...</td>\n",
              "    </tr>\n",
              "    <tr>\n",
              "      <th>301228</th>\n",
              "      <td>Auto Theft</td>\n",
              "      <td>Theft Of Motor Vehicle</td>\n",
              "      <td>210</td>\n",
              "    </tr>\n",
              "    <tr>\n",
              "      <th>301229</th>\n",
              "      <td>Auto Theft</td>\n",
              "      <td>Theft Of Motor Vehicle</td>\n",
              "      <td>210</td>\n",
              "    </tr>\n",
              "    <tr>\n",
              "      <th>301230</th>\n",
              "      <td>Auto Theft</td>\n",
              "      <td>Theft Of Motor Vehicle</td>\n",
              "      <td>210</td>\n",
              "    </tr>\n",
              "    <tr>\n",
              "      <th>301231</th>\n",
              "      <td>Auto Theft</td>\n",
              "      <td>Theft Of Motor Vehicle</td>\n",
              "      <td>210</td>\n",
              "    </tr>\n",
              "    <tr>\n",
              "      <th>301232</th>\n",
              "      <td>Auto Theft</td>\n",
              "      <td>Theft Of Motor Vehicle</td>\n",
              "      <td>210</td>\n",
              "    </tr>\n",
              "  </tbody>\n",
              "</table>\n",
              "<p>301233 rows × 3 columns</p>\n",
              "</div>\n",
              "      <button class=\"colab-df-convert\" onclick=\"convertToInteractive('df-f3dfee3a-1221-40cd-86de-463249ecc4db')\"\n",
              "              title=\"Convert this dataframe to an interactive table.\"\n",
              "              style=\"display:none;\">\n",
              "        \n",
              "  <svg xmlns=\"http://www.w3.org/2000/svg\" height=\"24px\"viewBox=\"0 0 24 24\"\n",
              "       width=\"24px\">\n",
              "    <path d=\"M0 0h24v24H0V0z\" fill=\"none\"/>\n",
              "    <path d=\"M18.56 5.44l.94 2.06.94-2.06 2.06-.94-2.06-.94-.94-2.06-.94 2.06-2.06.94zm-11 1L8.5 8.5l.94-2.06 2.06-.94-2.06-.94L8.5 2.5l-.94 2.06-2.06.94zm10 10l.94 2.06.94-2.06 2.06-.94-2.06-.94-.94-2.06-.94 2.06-2.06.94z\"/><path d=\"M17.41 7.96l-1.37-1.37c-.4-.4-.92-.59-1.43-.59-.52 0-1.04.2-1.43.59L10.3 9.45l-7.72 7.72c-.78.78-.78 2.05 0 2.83L4 21.41c.39.39.9.59 1.41.59.51 0 1.02-.2 1.41-.59l7.78-7.78 2.81-2.81c.8-.78.8-2.07 0-2.86zM5.41 20L4 18.59l7.72-7.72 1.47 1.35L5.41 20z\"/>\n",
              "  </svg>\n",
              "      </button>\n",
              "      \n",
              "  <style>\n",
              "    .colab-df-container {\n",
              "      display:flex;\n",
              "      flex-wrap:wrap;\n",
              "      gap: 12px;\n",
              "    }\n",
              "\n",
              "    .colab-df-convert {\n",
              "      background-color: #E8F0FE;\n",
              "      border: none;\n",
              "      border-radius: 50%;\n",
              "      cursor: pointer;\n",
              "      display: none;\n",
              "      fill: #1967D2;\n",
              "      height: 32px;\n",
              "      padding: 0 0 0 0;\n",
              "      width: 32px;\n",
              "    }\n",
              "\n",
              "    .colab-df-convert:hover {\n",
              "      background-color: #E2EBFA;\n",
              "      box-shadow: 0px 1px 2px rgba(60, 64, 67, 0.3), 0px 1px 3px 1px rgba(60, 64, 67, 0.15);\n",
              "      fill: #174EA6;\n",
              "    }\n",
              "\n",
              "    [theme=dark] .colab-df-convert {\n",
              "      background-color: #3B4455;\n",
              "      fill: #D2E3FC;\n",
              "    }\n",
              "\n",
              "    [theme=dark] .colab-df-convert:hover {\n",
              "      background-color: #434B5C;\n",
              "      box-shadow: 0px 1px 3px 1px rgba(0, 0, 0, 0.15);\n",
              "      filter: drop-shadow(0px 1px 2px rgba(0, 0, 0, 0.3));\n",
              "      fill: #FFFFFF;\n",
              "    }\n",
              "  </style>\n",
              "\n",
              "      <script>\n",
              "        const buttonEl =\n",
              "          document.querySelector('#df-f3dfee3a-1221-40cd-86de-463249ecc4db button.colab-df-convert');\n",
              "        buttonEl.style.display =\n",
              "          google.colab.kernel.accessAllowed ? 'block' : 'none';\n",
              "\n",
              "        async function convertToInteractive(key) {\n",
              "          const element = document.querySelector('#df-f3dfee3a-1221-40cd-86de-463249ecc4db');\n",
              "          const dataTable =\n",
              "            await google.colab.kernel.invokeFunction('convertToInteractive',\n",
              "                                                     [key], {});\n",
              "          if (!dataTable) return;\n",
              "\n",
              "          const docLinkHtml = 'Like what you see? Visit the ' +\n",
              "            '<a target=\"_blank\" href=https://colab.research.google.com/notebooks/data_table.ipynb>data table notebook</a>'\n",
              "            + ' to learn more about interactive tables.';\n",
              "          element.innerHTML = '';\n",
              "          dataTable['output_type'] = 'display_data';\n",
              "          await google.colab.output.renderOutput(dataTable, element);\n",
              "          const docLink = document.createElement('div');\n",
              "          docLink.innerHTML = docLinkHtml;\n",
              "          element.appendChild(docLink);\n",
              "        }\n",
              "      </script>\n",
              "    </div>\n",
              "  </div>\n",
              "  "
            ]
          },
          "metadata": {},
          "execution_count": 12
        }
      ]
    },
    {
      "cell_type": "code",
      "source": [
        "data[\"mci_category\"].value_counts()"
      ],
      "metadata": {
        "colab": {
          "base_uri": "https://localhost:8080/"
        },
        "id": "Q5Zq5Z_Fudnk",
        "outputId": "ca3750d3-3afb-4a07-e2a9-0d125e791c88"
      },
      "execution_count": 13,
      "outputs": [
        {
          "output_type": "execute_result",
          "data": {
            "text/plain": [
              "Assault            161833\n",
              "Break and Enter     59440\n",
              "Auto Theft          40794\n",
              "Robbery             29230\n",
              "Theft Over           9936\n",
              "Name: mci_category, dtype: int64"
            ]
          },
          "metadata": {},
          "execution_count": 13
        }
      ]
    },
    {
      "cell_type": "code",
      "source": [
        "### Exploring the data to gain insigths\n",
        "### Latitue and Longitude int(values) => 43 / -79 // a couple of ZEROS\n",
        "\n",
        "data[['Latitude','Longitude']]"
      ],
      "metadata": {
        "colab": {
          "base_uri": "https://localhost:8080/",
          "height": 423
        },
        "id": "LeVEdlH0tRpz",
        "outputId": "6006e9b2-43c5-4bb9-b0c5-fb10d8e325c5"
      },
      "execution_count": 14,
      "outputs": [
        {
          "output_type": "execute_result",
          "data": {
            "text/plain": [
              "         Latitude  Longitude\n",
              "0       43.766371 -79.504475\n",
              "1       43.814861 -79.217083\n",
              "2       43.589085 -79.534957\n",
              "3       43.703212 -79.346588\n",
              "4       43.645247 -79.531916\n",
              "...           ...        ...\n",
              "301228  43.790363 -79.455098\n",
              "301229  43.775740 -79.234954\n",
              "301230  43.765801 -79.281037\n",
              "301231   0.000000   0.000000\n",
              "301232  43.750849 -79.542092\n",
              "\n",
              "[301233 rows x 2 columns]"
            ],
            "text/html": [
              "\n",
              "  <div id=\"df-6152521f-c811-4a9e-ad98-480b33e2c380\">\n",
              "    <div class=\"colab-df-container\">\n",
              "      <div>\n",
              "<style scoped>\n",
              "    .dataframe tbody tr th:only-of-type {\n",
              "        vertical-align: middle;\n",
              "    }\n",
              "\n",
              "    .dataframe tbody tr th {\n",
              "        vertical-align: top;\n",
              "    }\n",
              "\n",
              "    .dataframe thead th {\n",
              "        text-align: right;\n",
              "    }\n",
              "</style>\n",
              "<table border=\"1\" class=\"dataframe\">\n",
              "  <thead>\n",
              "    <tr style=\"text-align: right;\">\n",
              "      <th></th>\n",
              "      <th>Latitude</th>\n",
              "      <th>Longitude</th>\n",
              "    </tr>\n",
              "  </thead>\n",
              "  <tbody>\n",
              "    <tr>\n",
              "      <th>0</th>\n",
              "      <td>43.766371</td>\n",
              "      <td>-79.504475</td>\n",
              "    </tr>\n",
              "    <tr>\n",
              "      <th>1</th>\n",
              "      <td>43.814861</td>\n",
              "      <td>-79.217083</td>\n",
              "    </tr>\n",
              "    <tr>\n",
              "      <th>2</th>\n",
              "      <td>43.589085</td>\n",
              "      <td>-79.534957</td>\n",
              "    </tr>\n",
              "    <tr>\n",
              "      <th>3</th>\n",
              "      <td>43.703212</td>\n",
              "      <td>-79.346588</td>\n",
              "    </tr>\n",
              "    <tr>\n",
              "      <th>4</th>\n",
              "      <td>43.645247</td>\n",
              "      <td>-79.531916</td>\n",
              "    </tr>\n",
              "    <tr>\n",
              "      <th>...</th>\n",
              "      <td>...</td>\n",
              "      <td>...</td>\n",
              "    </tr>\n",
              "    <tr>\n",
              "      <th>301228</th>\n",
              "      <td>43.790363</td>\n",
              "      <td>-79.455098</td>\n",
              "    </tr>\n",
              "    <tr>\n",
              "      <th>301229</th>\n",
              "      <td>43.775740</td>\n",
              "      <td>-79.234954</td>\n",
              "    </tr>\n",
              "    <tr>\n",
              "      <th>301230</th>\n",
              "      <td>43.765801</td>\n",
              "      <td>-79.281037</td>\n",
              "    </tr>\n",
              "    <tr>\n",
              "      <th>301231</th>\n",
              "      <td>0.000000</td>\n",
              "      <td>0.000000</td>\n",
              "    </tr>\n",
              "    <tr>\n",
              "      <th>301232</th>\n",
              "      <td>43.750849</td>\n",
              "      <td>-79.542092</td>\n",
              "    </tr>\n",
              "  </tbody>\n",
              "</table>\n",
              "<p>301233 rows × 2 columns</p>\n",
              "</div>\n",
              "      <button class=\"colab-df-convert\" onclick=\"convertToInteractive('df-6152521f-c811-4a9e-ad98-480b33e2c380')\"\n",
              "              title=\"Convert this dataframe to an interactive table.\"\n",
              "              style=\"display:none;\">\n",
              "        \n",
              "  <svg xmlns=\"http://www.w3.org/2000/svg\" height=\"24px\"viewBox=\"0 0 24 24\"\n",
              "       width=\"24px\">\n",
              "    <path d=\"M0 0h24v24H0V0z\" fill=\"none\"/>\n",
              "    <path d=\"M18.56 5.44l.94 2.06.94-2.06 2.06-.94-2.06-.94-.94-2.06-.94 2.06-2.06.94zm-11 1L8.5 8.5l.94-2.06 2.06-.94-2.06-.94L8.5 2.5l-.94 2.06-2.06.94zm10 10l.94 2.06.94-2.06 2.06-.94-2.06-.94-.94-2.06-.94 2.06-2.06.94z\"/><path d=\"M17.41 7.96l-1.37-1.37c-.4-.4-.92-.59-1.43-.59-.52 0-1.04.2-1.43.59L10.3 9.45l-7.72 7.72c-.78.78-.78 2.05 0 2.83L4 21.41c.39.39.9.59 1.41.59.51 0 1.02-.2 1.41-.59l7.78-7.78 2.81-2.81c.8-.78.8-2.07 0-2.86zM5.41 20L4 18.59l7.72-7.72 1.47 1.35L5.41 20z\"/>\n",
              "  </svg>\n",
              "      </button>\n",
              "      \n",
              "  <style>\n",
              "    .colab-df-container {\n",
              "      display:flex;\n",
              "      flex-wrap:wrap;\n",
              "      gap: 12px;\n",
              "    }\n",
              "\n",
              "    .colab-df-convert {\n",
              "      background-color: #E8F0FE;\n",
              "      border: none;\n",
              "      border-radius: 50%;\n",
              "      cursor: pointer;\n",
              "      display: none;\n",
              "      fill: #1967D2;\n",
              "      height: 32px;\n",
              "      padding: 0 0 0 0;\n",
              "      width: 32px;\n",
              "    }\n",
              "\n",
              "    .colab-df-convert:hover {\n",
              "      background-color: #E2EBFA;\n",
              "      box-shadow: 0px 1px 2px rgba(60, 64, 67, 0.3), 0px 1px 3px 1px rgba(60, 64, 67, 0.15);\n",
              "      fill: #174EA6;\n",
              "    }\n",
              "\n",
              "    [theme=dark] .colab-df-convert {\n",
              "      background-color: #3B4455;\n",
              "      fill: #D2E3FC;\n",
              "    }\n",
              "\n",
              "    [theme=dark] .colab-df-convert:hover {\n",
              "      background-color: #434B5C;\n",
              "      box-shadow: 0px 1px 3px 1px rgba(0, 0, 0, 0.15);\n",
              "      filter: drop-shadow(0px 1px 2px rgba(0, 0, 0, 0.3));\n",
              "      fill: #FFFFFF;\n",
              "    }\n",
              "  </style>\n",
              "\n",
              "      <script>\n",
              "        const buttonEl =\n",
              "          document.querySelector('#df-6152521f-c811-4a9e-ad98-480b33e2c380 button.colab-df-convert');\n",
              "        buttonEl.style.display =\n",
              "          google.colab.kernel.accessAllowed ? 'block' : 'none';\n",
              "\n",
              "        async function convertToInteractive(key) {\n",
              "          const element = document.querySelector('#df-6152521f-c811-4a9e-ad98-480b33e2c380');\n",
              "          const dataTable =\n",
              "            await google.colab.kernel.invokeFunction('convertToInteractive',\n",
              "                                                     [key], {});\n",
              "          if (!dataTable) return;\n",
              "\n",
              "          const docLinkHtml = 'Like what you see? Visit the ' +\n",
              "            '<a target=\"_blank\" href=https://colab.research.google.com/notebooks/data_table.ipynb>data table notebook</a>'\n",
              "            + ' to learn more about interactive tables.';\n",
              "          element.innerHTML = '';\n",
              "          dataTable['output_type'] = 'display_data';\n",
              "          await google.colab.output.renderOutput(dataTable, element);\n",
              "          const docLink = document.createElement('div');\n",
              "          docLink.innerHTML = docLinkHtml;\n",
              "          element.appendChild(docLink);\n",
              "        }\n",
              "      </script>\n",
              "    </div>\n",
              "  </div>\n",
              "  "
            ]
          },
          "metadata": {},
          "execution_count": 14
        }
      ]
    },
    {
      "cell_type": "code",
      "source": [
        "### Exploring the data to gain insigths\n",
        "### Histogram for each numerical atribute\n",
        "\n",
        "import matplotlib.pyplot as plt\n",
        "data.hist(bins=50, figsize=(12,8))\n",
        "plt.show()"
      ],
      "metadata": {
        "colab": {
          "base_uri": "https://localhost:8080/",
          "height": 499
        },
        "id": "l8EY6bZTs-od",
        "outputId": "1b41417f-0a75-46b5-b082-353453b45666"
      },
      "execution_count": 15,
      "outputs": [
        {
          "output_type": "display_data",
          "data": {
            "text/plain": [
              "<Figure size 864x576 with 16 Axes>"
            ],
            "image/png": "[encoded data removed]"
          },
          "metadata": {
            "needs_background": "light"
          }
        }
      ]
    },
    {
      "cell_type": "code",
      "source": [
        "### Exploring the data to gain insigths\n",
        "### Visualizing Goegraphical Data\n",
        "\n",
        "import matplotlib.pyplot as plt\n",
        "data.plot(kind=\"scatter\", x=\"Longitude\", y=\"Latitude\", grid=True)\n",
        "plt.show()"
      ],
      "metadata": {
        "colab": {
          "base_uri": "https://localhost:8080/",
          "height": 279
        },
        "id": "w8-iZk9_tdda",
        "outputId": "dd403a10-1b28-4b3d-9e23-6422dff8db7e"
      },
      "execution_count": 16,
      "outputs": [
        {
          "output_type": "display_data",
          "data": {
            "text/plain": [
              "<Figure size 432x288 with 1 Axes>"
            ],
            "image/png": "[encoded data removed]"
          },
          "metadata": {
            "needs_background": "light"
          }
        }
      ]
    },
    {
      "cell_type": "code",
      "source": [
        "### Exploring the data to gain insigths\n",
        "### Looking for correlations\n",
        "\n",
        "corr_matrix = data.corr()\n",
        "corr_matrix [\"ucr_code\"].sort_values(ascending=False)"
      ],
      "metadata": {
        "colab": {
          "base_uri": "https://localhost:8080/"
        },
        "id": "hwEYXPijuVfH",
        "outputId": "3c5f8b8b-a388-4da4-b9a4-0dd9e43295a1"
      },
      "execution_count": 17,
      "outputs": [
        {
          "output_type": "execute_result",
          "data": {
            "text/plain": [
              "ucr_code               1.000000\n",
              "ucr_ext                0.920490\n",
              "occurrenceyear         0.043597\n",
              "Index_                 0.035648\n",
              "ObjectId               0.035639\n",
              "reportedyear           0.034324\n",
              "Y                      0.025611\n",
              "Latitude               0.025505\n",
              "occurrenceday          0.011813\n",
              "occurrencedayofyear    0.008028\n",
              "reporteddayofyear      0.002388\n",
              "reportedday           -0.000665\n",
              "Longitude             -0.025991\n",
              "X                     -0.025991\n",
              "occurrencehour        -0.041091\n",
              "reportedhour          -0.077251\n",
              "Name: ucr_code, dtype: float64"
            ]
          },
          "metadata": {},
          "execution_count": 17
        }
      ]
    },
    {
      "cell_type": "code",
      "source": [
        "### Exploring the data to gain insigths\n",
        "### Looking for correlations - using pandas Scatter Matrix\n",
        "### Scatter Matrix plots every numerical atribute against every other attribite, plus a histogram of each numerical atribute's value on the main diagonal top left to bottom rigth \n",
        "\n",
        "from pandas.plotting import scatter_matrix\n",
        "attributes = [\"ucr_code\", \"ucr_ext\", \"occurrenceyear\", \"reportedyear\", \"occurrenceday\", \"occurrencehour\", \"reportedhour\"]\n",
        "scatter_matrix(data[attributes], figsize=(12,8))\n",
        "plt.show()"
      ],
      "metadata": {
        "colab": {
          "base_uri": "https://localhost:8080/",
          "height": 508
        },
        "id": "X-2zUUGFv34m",
        "outputId": "27588ef6-0aef-4df3-f17c-8dad9fc51782"
      },
      "execution_count": 18,
      "outputs": [
        {
          "output_type": "display_data",
          "data": {
            "text/plain": [
              "<Figure size 864x576 with 49 Axes>"
            ],
            "image/png": "[encoded data removed]"
          },
          "metadata": {
            "needs_background": "light"
          }
        }
      ]
    },
    {
      "cell_type": "code",
      "source": [
        "### Exploring the data to gain insigths\n",
        "### Experiments - Attribute combinations (66)\n",
        "\n",
        "import matplotlib.pyplot as plt\n",
        "data.plot(kind=\"scatter\", x=\"Longitude\", y=\"Latitude\", grid=True)\n",
        "plt.show()"
      ],
      "metadata": {
        "colab": {
          "base_uri": "https://localhost:8080/",
          "height": 279
        },
        "id": "RM_eM2YPxvcu",
        "outputId": "4452449c-58cb-4a45-c923-e7a9834ac7c1"
      },
      "execution_count": 19,
      "outputs": [
        {
          "output_type": "display_data",
          "data": {
            "text/plain": [
              "<Figure size 432x288 with 1 Axes>"
            ],
            "image/png": "[encoded data removed]"
          },
          "metadata": {
            "needs_background": "light"
          }
        }
      ]
    },
    {
      "cell_type": "code",
      "source": [
        "### Clean the data (68)\n",
        "### Get rid of the instance / Get rid of the whole attribute / Set the missing values to some value (zero, median, mean, etc.)\n",
        "### Panda's dataframe > dropna(), drop(), fillna() + Scikit-Learn SimpleImputer\n",
        "### Solving the issue with Latitude and Longitude - ZERO VALUES"
      ],
      "metadata": {
        "id": "8PR8D8KIzqol"
      },
      "execution_count": 20,
      "outputs": []
    },
    {
      "cell_type": "code",
      "source": [
        "### Replace ZERO values for NaN = Not a number\n",
        "###\n",
        "###data.replace(0, np.nan, inplace=True) ### To replace all the columns\n",
        "\n",
        "cols = [\"Latitude\",\"Longitude\"]\n",
        "data[cols] = data[cols].replace(['0', 0], np.nan)\n",
        "\n",
        "import matplotlib.pyplot as plt\n",
        "data.plot(kind=\"scatter\", x=\"Longitude\", y=\"Latitude\", grid=True)\n",
        "plt.show()"
      ],
      "metadata": {
        "colab": {
          "base_uri": "https://localhost:8080/",
          "height": 279
        },
        "id": "di1bbOa82_u8",
        "outputId": "6e3cabc7-e8a3-4e2a-986f-80fc787ae103"
      },
      "execution_count": 21,
      "outputs": [
        {
          "output_type": "display_data",
          "data": {
            "text/plain": [
              "<Figure size 432x288 with 1 Axes>"
            ],
            "image/png": "[encoded data removed]"
          },
          "metadata": {
            "needs_background": "light"
          }
        }
      ]
    },
    {
      "cell_type": "code",
      "source": [
        "### Replace ZERO values for NaN = Not a number\n",
        "### I am missing a value variable, so for testing purposes I used reportedyear field LOL!!!\n",
        "###\n",
        "\n",
        "import matplotlib.pyplot as plt\n",
        "data.plot(kind=\"scatter\", x=\"Longitude\", y=\"Latitude\", grid=True, \n",
        "          s=data[\"reportedyear\"], label = \"year\",\n",
        "          c=\"reportedyear\", cmap=\"jet\", colorbar=True, \n",
        "          legend=True, sharex=False, figsize=(10,7))\n",
        "plt.show()"
      ],
      "metadata": {
        "colab": {
          "base_uri": "https://localhost:8080/",
          "height": 446
        },
        "id": "MM918EiU5iFR",
        "outputId": "7289244b-d428-424b-8cb4-c6faddeb3dbd"
      },
      "execution_count": 22,
      "outputs": [
        {
          "output_type": "display_data",
          "data": {
            "text/plain": [
              "<Figure size 720x504 with 2 Axes>"
            ],
            "image/png": "[encoded data removed]"
          },
          "metadata": {
            "needs_background": "light"
          }
        }
      ]
    },
    {
      "cell_type": "code",
      "source": [
        "### Adding a new attribute qtd of days since reported first time - using current date\n",
        "### date.today() / datetime.now()\n",
        "### time.struct_time((d.year, d.month, d.day, 0, 0, 0, d.weekday(), yday, -1))\n",
        "### https://docs.python.org/3/library/datetime.html\n",
        "### class datetime.datetime(year, month, day, hour=0, minute=0, second=0, microsecond=0, tzinfo=None, *, fold=0)\n",
        "\n",
        "from datetime import date\n",
        "from datetime import datetime\n",
        "today_date_iso = (datetime.today())\n",
        "data['reporteddate'] = pd.to_datetime(data['reporteddate'])\n",
        "data['days_since_reported'] = today_date_iso - datetime(data['reporteddate'], tzinfo=None).isoformat() \n",
        "\n",
        "#(pd.to_datetime(data['reporteddate']))\n",
        "#data['reporteddate'] = datetime(data['reporteddate']).isoformat()\n",
        "#data[\"days_since_reported\"] = (datetime(2023, 2, 23, tzinfo=None).isoformat()) - (datetime(data['reporteddate'], tzinfo=None).isoformat())\n",
        "\n",
        "#today = today.replace(tzinfo=None)\n"
      ],
      "metadata": {
        "id": "B-9baQcR7a31",
        "colab": {
          "base_uri": "https://localhost:8080/",
          "height": 375
        },
        "outputId": "84bc7f56-3d81-4ab4-d01f-752f5ded70a6"
      },
      "execution_count": 23,
      "outputs": [
        {
          "output_type": "error",
          "ename": "TypeError",
          "evalue": "ignored",
          "traceback": [
            "\u001b[0;31m---------------------------------------------------------------------------\u001b[0m",
            "\u001b[0;31mTypeError\u001b[0m                                 Traceback (most recent call last)",
            "\u001b[0;32m<ipython-input-23-abceaedd957f>\u001b[0m in \u001b[0;36m<module>\u001b[0;34m\u001b[0m\n\u001b[1;32m      9\u001b[0m \u001b[0mtoday_date_iso\u001b[0m \u001b[0;34m=\u001b[0m \u001b[0;34m(\u001b[0m\u001b[0mdatetime\u001b[0m\u001b[0;34m.\u001b[0m\u001b[0mtoday\u001b[0m\u001b[0;34m(\u001b[0m\u001b[0;34m)\u001b[0m\u001b[0;34m)\u001b[0m\u001b[0;34m\u001b[0m\u001b[0;34m\u001b[0m\u001b[0m\n\u001b[1;32m     10\u001b[0m \u001b[0mdata\u001b[0m\u001b[0;34m[\u001b[0m\u001b[0;34m'reporteddate'\u001b[0m\u001b[0;34m]\u001b[0m \u001b[0;34m=\u001b[0m \u001b[0mpd\u001b[0m\u001b[0;34m.\u001b[0m\u001b[0mto_datetime\u001b[0m\u001b[0;34m(\u001b[0m\u001b[0mdata\u001b[0m\u001b[0;34m[\u001b[0m\u001b[0;34m'reporteddate'\u001b[0m\u001b[0;34m]\u001b[0m\u001b[0;34m)\u001b[0m\u001b[0;34m\u001b[0m\u001b[0;34m\u001b[0m\u001b[0m\n\u001b[0;32m---> 11\u001b[0;31m \u001b[0mdata\u001b[0m\u001b[0;34m[\u001b[0m\u001b[0;34m'days_since_reported'\u001b[0m\u001b[0;34m]\u001b[0m \u001b[0;34m=\u001b[0m \u001b[0mtoday_date_iso\u001b[0m \u001b[0;34m-\u001b[0m \u001b[0mdatetime\u001b[0m\u001b[0;34m(\u001b[0m\u001b[0mdata\u001b[0m\u001b[0;34m[\u001b[0m\u001b[0;34m'reporteddate'\u001b[0m\u001b[0;34m]\u001b[0m\u001b[0;34m,\u001b[0m \u001b[0mtzinfo\u001b[0m\u001b[0;34m=\u001b[0m\u001b[0;32mNone\u001b[0m\u001b[0;34m)\u001b[0m\u001b[0;34m.\u001b[0m\u001b[0misoformat\u001b[0m\u001b[0;34m(\u001b[0m\u001b[0;34m)\u001b[0m\u001b[0;34m\u001b[0m\u001b[0;34m\u001b[0m\u001b[0m\n\u001b[0m\u001b[1;32m     12\u001b[0m \u001b[0;34m\u001b[0m\u001b[0m\n\u001b[1;32m     13\u001b[0m \u001b[0;31m#(pd.to_datetime(data['reporteddate']))\u001b[0m\u001b[0;34m\u001b[0m\u001b[0;34m\u001b[0m\u001b[0;34m\u001b[0m\u001b[0m\n",
            "\u001b[0;32m/usr/local/lib/python3.8/dist-packages/pandas/core/series.py\u001b[0m in \u001b[0;36mwrapper\u001b[0;34m(self)\u001b[0m\n\u001b[1;32m    183\u001b[0m         \u001b[0;32mif\u001b[0m \u001b[0mlen\u001b[0m\u001b[0;34m(\u001b[0m\u001b[0mself\u001b[0m\u001b[0;34m)\u001b[0m \u001b[0;34m==\u001b[0m \u001b[0;36m1\u001b[0m\u001b[0;34m:\u001b[0m\u001b[0;34m\u001b[0m\u001b[0;34m\u001b[0m\u001b[0m\n\u001b[1;32m    184\u001b[0m             \u001b[0;32mreturn\u001b[0m \u001b[0mconverter\u001b[0m\u001b[0;34m(\u001b[0m\u001b[0mself\u001b[0m\u001b[0;34m.\u001b[0m\u001b[0miloc\u001b[0m\u001b[0;34m[\u001b[0m\u001b[0;36m0\u001b[0m\u001b[0;34m]\u001b[0m\u001b[0;34m)\u001b[0m\u001b[0;34m\u001b[0m\u001b[0;34m\u001b[0m\u001b[0m\n\u001b[0;32m--> 185\u001b[0;31m         \u001b[0;32mraise\u001b[0m \u001b[0mTypeError\u001b[0m\u001b[0;34m(\u001b[0m\u001b[0;34mf\"cannot convert the series to {converter}\"\u001b[0m\u001b[0;34m)\u001b[0m\u001b[0;34m\u001b[0m\u001b[0;34m\u001b[0m\u001b[0m\n\u001b[0m\u001b[1;32m    186\u001b[0m \u001b[0;34m\u001b[0m\u001b[0m\n\u001b[1;32m    187\u001b[0m     \u001b[0mwrapper\u001b[0m\u001b[0;34m.\u001b[0m\u001b[0m__name__\u001b[0m \u001b[0;34m=\u001b[0m \u001b[0;34mf\"__{converter.__name__}__\"\u001b[0m\u001b[0;34m\u001b[0m\u001b[0;34m\u001b[0m\u001b[0m\n",
            "\u001b[0;31mTypeError\u001b[0m: cannot convert the series to <class 'int'>"
          ]
        }
      ]
    },
    {
      "cell_type": "code",
      "source": [
        "today_date_iso\n",
        "data.info()\n",
        "data.head()"
      ],
      "metadata": {
        "colab": {
          "base_uri": "https://localhost:8080/",
          "height": 1000
        },
        "id": "UCC2oK-LyoXT",
        "outputId": "e8a848ad-700b-49d2-b43c-d4d77c4afb2b"
      },
      "execution_count": 29,
      "outputs": [
        {
          "output_type": "stream",
          "name": "stdout",
          "text": [
            "<class 'pandas.core.frame.DataFrame'>\n",
            "RangeIndex: 301233 entries, 0 to 301232\n",
            "Data columns (total 30 columns):\n",
            " #   Column               Non-Null Count   Dtype              \n",
            "---  ------               --------------   -----              \n",
            " 0   X                    301233 non-null  float64            \n",
            " 1   Y                    301233 non-null  float64            \n",
            " 2   Index_               301233 non-null  int64              \n",
            " 3   event_unique_id      301233 non-null  object             \n",
            " 4   Division             301233 non-null  object             \n",
            " 5   occurrencedate       301233 non-null  object             \n",
            " 6   reporteddate         301233 non-null  datetime64[ns, UTC]\n",
            " 7   location_type        301233 non-null  object             \n",
            " 8   premises_type        301233 non-null  object             \n",
            " 9   ucr_code             301233 non-null  int64              \n",
            " 10  ucr_ext              301233 non-null  int64              \n",
            " 11  offence              301233 non-null  object             \n",
            " 12  reportedyear         301233 non-null  int64              \n",
            " 13  reportedmonth        301233 non-null  object             \n",
            " 14  reportedday          301233 non-null  int64              \n",
            " 15  reporteddayofyear    301233 non-null  int64              \n",
            " 16  reporteddayofweek    301233 non-null  object             \n",
            " 17  reportedhour         301233 non-null  int64              \n",
            " 18  occurrenceyear       301133 non-null  float64            \n",
            " 19  occurrencemonth      301133 non-null  object             \n",
            " 20  occurrenceday        301133 non-null  float64            \n",
            " 21  occurrencedayofyear  301133 non-null  float64            \n",
            " 22  occurrencedayofweek  301133 non-null  object             \n",
            " 23  occurrencehour       301233 non-null  int64              \n",
            " 24  mci_category         301233 non-null  object             \n",
            " 25  Hood_ID              301233 non-null  object             \n",
            " 26  Neighbourhood        301233 non-null  object             \n",
            " 27  Longitude            297353 non-null  float64            \n",
            " 28  Latitude             297353 non-null  float64            \n",
            " 29  ObjectId             301233 non-null  int64              \n",
            "dtypes: datetime64[ns, UTC](1), float64(7), int64(9), object(13)\n",
            "memory usage: 68.9+ MB\n"
          ]
        },
        {
          "output_type": "execute_result",
          "data": {
            "text/plain": [
              "              X             Y  Index_ event_unique_id Division  \\\n",
              "0 -8.850398e+06  5.429359e+06     201  GO-20141273318      D31   \n",
              "1 -8.818405e+06  5.436836e+06     202  GO-20141274349      D42   \n",
              "2 -8.853791e+06  5.402071e+06     203  GO-20141274052      D22   \n",
              "3 -8.832822e+06  5.419628e+06     204  GO-20141276966      D53   \n",
              "4 -8.853452e+06  5.410706e+06     205  GO-20141274457      D22   \n",
              "\n",
              "           occurrencedate              reporteddate  \\\n",
              "0  2014/01/03 05:00:00+00 2014-01-03 05:00:00+00:00   \n",
              "1  2014/01/03 05:00:00+00 2014-01-03 05:00:00+00:00   \n",
              "2  2014/01/03 05:00:00+00 2014-01-03 05:00:00+00:00   \n",
              "3  2014/01/03 05:00:00+00 2014-01-03 05:00:00+00:00   \n",
              "4  2014/01/03 05:00:00+00 2014-01-03 05:00:00+00:00   \n",
              "\n",
              "                                       location_type premises_type  ucr_code  \\\n",
              "0                   Apartment (Rooming House, Condo)     Apartment      1430   \n",
              "1  Single Home, House (Attach Garage, Cottage, Mo...         House      2120   \n",
              "2                  Open Areas (Lakes, Parks, Rivers)       Outside      1430   \n",
              "3  Other Commercial / Corporate Places (For Profi...    Commercial      2130   \n",
              "4                                 Convenience Stores    Commercial      1610   \n",
              "\n",
              "   ...  occurrenceday occurrencedayofyear  occurrencedayofweek occurrencehour  \\\n",
              "0  ...            3.0                 3.0           Friday                 11   \n",
              "1  ...            3.0                 3.0           Friday                 14   \n",
              "2  ...            3.0                 3.0           Friday                 13   \n",
              "3  ...            3.0                 3.0           Friday                 12   \n",
              "4  ...            3.0                 3.0           Friday                 14   \n",
              "\n",
              "      mci_category  Hood_ID               Neighbourhood  Longitude   Latitude  \\\n",
              "0          Assault       27     York University Heights -79.504475  43.766371   \n",
              "1  Break and Enter      132                     Malvern -79.217083  43.814861   \n",
              "2          Assault       19                 Long Branch -79.534957  43.589085   \n",
              "3       Theft Over       55            Thorncliffe Park -79.346588  43.703212   \n",
              "4          Robbery       14  Islington-City Centre West -79.531916  43.645247   \n",
              "\n",
              "  ObjectId  \n",
              "0        1  \n",
              "1        2  \n",
              "2        3  \n",
              "3        4  \n",
              "4        5  \n",
              "\n",
              "[5 rows x 30 columns]"
            ],
            "text/html": [
              "\n",
              "  <div id=\"df-15745ab2-95a4-4a0d-ac7c-fc3ee966ae39\">\n",
              "    <div class=\"colab-df-container\">\n",
              "      <div>\n",
              "<style scoped>\n",
              "    .dataframe tbody tr th:only-of-type {\n",
              "        vertical-align: middle;\n",
              "    }\n",
              "\n",
              "    .dataframe tbody tr th {\n",
              "        vertical-align: top;\n",
              "    }\n",
              "\n",
              "    .dataframe thead th {\n",
              "        text-align: right;\n",
              "    }\n",
              "</style>\n",
              "<table border=\"1\" class=\"dataframe\">\n",
              "  <thead>\n",
              "    <tr style=\"text-align: right;\">\n",
              "      <th></th>\n",
              "      <th>X</th>\n",
              "      <th>Y</th>\n",
              "      <th>Index_</th>\n",
              "      <th>event_unique_id</th>\n",
              "      <th>Division</th>\n",
              "      <th>occurrencedate</th>\n",
              "      <th>reporteddate</th>\n",
              "      <th>location_type</th>\n",
              "      <th>premises_type</th>\n",
              "      <th>ucr_code</th>\n",
              "      <th>...</th>\n",
              "      <th>occurrenceday</th>\n",
              "      <th>occurrencedayofyear</th>\n",
              "      <th>occurrencedayofweek</th>\n",
              "      <th>occurrencehour</th>\n",
              "      <th>mci_category</th>\n",
              "      <th>Hood_ID</th>\n",
              "      <th>Neighbourhood</th>\n",
              "      <th>Longitude</th>\n",
              "      <th>Latitude</th>\n",
              "      <th>ObjectId</th>\n",
              "    </tr>\n",
              "  </thead>\n",
              "  <tbody>\n",
              "    <tr>\n",
              "      <th>0</th>\n",
              "      <td>-8.850398e+06</td>\n",
              "      <td>5.429359e+06</td>\n",
              "      <td>201</td>\n",
              "      <td>GO-20141273318</td>\n",
              "      <td>D31</td>\n",
              "      <td>2014/01/03 05:00:00+00</td>\n",
              "      <td>2014-01-03 05:00:00+00:00</td>\n",
              "      <td>Apartment (Rooming House, Condo)</td>\n",
              "      <td>Apartment</td>\n",
              "      <td>1430</td>\n",
              "      <td>...</td>\n",
              "      <td>3.0</td>\n",
              "      <td>3.0</td>\n",
              "      <td>Friday</td>\n",
              "      <td>11</td>\n",
              "      <td>Assault</td>\n",
              "      <td>27</td>\n",
              "      <td>York University Heights</td>\n",
              "      <td>-79.504475</td>\n",
              "      <td>43.766371</td>\n",
              "      <td>1</td>\n",
              "    </tr>\n",
              "    <tr>\n",
              "      <th>1</th>\n",
              "      <td>-8.818405e+06</td>\n",
              "      <td>5.436836e+06</td>\n",
              "      <td>202</td>\n",
              "      <td>GO-20141274349</td>\n",
              "      <td>D42</td>\n",
              "      <td>2014/01/03 05:00:00+00</td>\n",
              "      <td>2014-01-03 05:00:00+00:00</td>\n",
              "      <td>Single Home, House (Attach Garage, Cottage, Mo...</td>\n",
              "      <td>House</td>\n",
              "      <td>2120</td>\n",
              "      <td>...</td>\n",
              "      <td>3.0</td>\n",
              "      <td>3.0</td>\n",
              "      <td>Friday</td>\n",
              "      <td>14</td>\n",
              "      <td>Break and Enter</td>\n",
              "      <td>132</td>\n",
              "      <td>Malvern</td>\n",
              "      <td>-79.217083</td>\n",
              "      <td>43.814861</td>\n",
              "      <td>2</td>\n",
              "    </tr>\n",
              "    <tr>\n",
              "      <th>2</th>\n",
              "      <td>-8.853791e+06</td>\n",
              "      <td>5.402071e+06</td>\n",
              "      <td>203</td>\n",
              "      <td>GO-20141274052</td>\n",
              "      <td>D22</td>\n",
              "      <td>2014/01/03 05:00:00+00</td>\n",
              "      <td>2014-01-03 05:00:00+00:00</td>\n",
              "      <td>Open Areas (Lakes, Parks, Rivers)</td>\n",
              "      <td>Outside</td>\n",
              "      <td>1430</td>\n",
              "      <td>...</td>\n",
              "      <td>3.0</td>\n",
              "      <td>3.0</td>\n",
              "      <td>Friday</td>\n",
              "      <td>13</td>\n",
              "      <td>Assault</td>\n",
              "      <td>19</td>\n",
              "      <td>Long Branch</td>\n",
              "      <td>-79.534957</td>\n",
              "      <td>43.589085</td>\n",
              "      <td>3</td>\n",
              "    </tr>\n",
              "    <tr>\n",
              "      <th>3</th>\n",
              "      <td>-8.832822e+06</td>\n",
              "      <td>5.419628e+06</td>\n",
              "      <td>204</td>\n",
              "      <td>GO-20141276966</td>\n",
              "      <td>D53</td>\n",
              "      <td>2014/01/03 05:00:00+00</td>\n",
              "      <td>2014-01-03 05:00:00+00:00</td>\n",
              "      <td>Other Commercial / Corporate Places (For Profi...</td>\n",
              "      <td>Commercial</td>\n",
              "      <td>2130</td>\n",
              "      <td>...</td>\n",
              "      <td>3.0</td>\n",
              "      <td>3.0</td>\n",
              "      <td>Friday</td>\n",
              "      <td>12</td>\n",
              "      <td>Theft Over</td>\n",
              "      <td>55</td>\n",
              "      <td>Thorncliffe Park</td>\n",
              "      <td>-79.346588</td>\n",
              "      <td>43.703212</td>\n",
              "      <td>4</td>\n",
              "    </tr>\n",
              "    <tr>\n",
              "      <th>4</th>\n",
              "      <td>-8.853452e+06</td>\n",
              "      <td>5.410706e+06</td>\n",
              "      <td>205</td>\n",
              "      <td>GO-20141274457</td>\n",
              "      <td>D22</td>\n",
              "      <td>2014/01/03 05:00:00+00</td>\n",
              "      <td>2014-01-03 05:00:00+00:00</td>\n",
              "      <td>Convenience Stores</td>\n",
              "      <td>Commercial</td>\n",
              "      <td>1610</td>\n",
              "      <td>...</td>\n",
              "      <td>3.0</td>\n",
              "      <td>3.0</td>\n",
              "      <td>Friday</td>\n",
              "      <td>14</td>\n",
              "      <td>Robbery</td>\n",
              "      <td>14</td>\n",
              "      <td>Islington-City Centre West</td>\n",
              "      <td>-79.531916</td>\n",
              "      <td>43.645247</td>\n",
              "      <td>5</td>\n",
              "    </tr>\n",
              "  </tbody>\n",
              "</table>\n",
              "<p>5 rows × 30 columns</p>\n",
              "</div>\n",
              "      <button class=\"colab-df-convert\" onclick=\"convertToInteractive('df-15745ab2-95a4-4a0d-ac7c-fc3ee966ae39')\"\n",
              "              title=\"Convert this dataframe to an interactive table.\"\n",
              "              style=\"display:none;\">\n",
              "        \n",
              "  <svg xmlns=\"http://www.w3.org/2000/svg\" height=\"24px\"viewBox=\"0 0 24 24\"\n",
              "       width=\"24px\">\n",
              "    <path d=\"M0 0h24v24H0V0z\" fill=\"none\"/>\n",
              "    <path d=\"M18.56 5.44l.94 2.06.94-2.06 2.06-.94-2.06-.94-.94-2.06-.94 2.06-2.06.94zm-11 1L8.5 8.5l.94-2.06 2.06-.94-2.06-.94L8.5 2.5l-.94 2.06-2.06.94zm10 10l.94 2.06.94-2.06 2.06-.94-2.06-.94-.94-2.06-.94 2.06-2.06.94z\"/><path d=\"M17.41 7.96l-1.37-1.37c-.4-.4-.92-.59-1.43-.59-.52 0-1.04.2-1.43.59L10.3 9.45l-7.72 7.72c-.78.78-.78 2.05 0 2.83L4 21.41c.39.39.9.59 1.41.59.51 0 1.02-.2 1.41-.59l7.78-7.78 2.81-2.81c.8-.78.8-2.07 0-2.86zM5.41 20L4 18.59l7.72-7.72 1.47 1.35L5.41 20z\"/>\n",
              "  </svg>\n",
              "      </button>\n",
              "      \n",
              "  <style>\n",
              "    .colab-df-container {\n",
              "      display:flex;\n",
              "      flex-wrap:wrap;\n",
              "      gap: 12px;\n",
              "    }\n",
              "\n",
              "    .colab-df-convert {\n",
              "      background-color: #E8F0FE;\n",
              "      border: none;\n",
              "      border-radius: 50%;\n",
              "      cursor: pointer;\n",
              "      display: none;\n",
              "      fill: #1967D2;\n",
              "      height: 32px;\n",
              "      padding: 0 0 0 0;\n",
              "      width: 32px;\n",
              "    }\n",
              "\n",
              "    .colab-df-convert:hover {\n",
              "      background-color: #E2EBFA;\n",
              "      box-shadow: 0px 1px 2px rgba(60, 64, 67, 0.3), 0px 1px 3px 1px rgba(60, 64, 67, 0.15);\n",
              "      fill: #174EA6;\n",
              "    }\n",
              "\n",
              "    [theme=dark] .colab-df-convert {\n",
              "      background-color: #3B4455;\n",
              "      fill: #D2E3FC;\n",
              "    }\n",
              "\n",
              "    [theme=dark] .colab-df-convert:hover {\n",
              "      background-color: #434B5C;\n",
              "      box-shadow: 0px 1px 3px 1px rgba(0, 0, 0, 0.15);\n",
              "      filter: drop-shadow(0px 1px 2px rgba(0, 0, 0, 0.3));\n",
              "      fill: #FFFFFF;\n",
              "    }\n",
              "  </style>\n",
              "\n",
              "      <script>\n",
              "        const buttonEl =\n",
              "          document.querySelector('#df-15745ab2-95a4-4a0d-ac7c-fc3ee966ae39 button.colab-df-convert');\n",
              "        buttonEl.style.display =\n",
              "          google.colab.kernel.accessAllowed ? 'block' : 'none';\n",
              "\n",
              "        async function convertToInteractive(key) {\n",
              "          const element = document.querySelector('#df-15745ab2-95a4-4a0d-ac7c-fc3ee966ae39');\n",
              "          const dataTable =\n",
              "            await google.colab.kernel.invokeFunction('convertToInteractive',\n",
              "                                                     [key], {});\n",
              "          if (!dataTable) return;\n",
              "\n",
              "          const docLinkHtml = 'Like what you see? Visit the ' +\n",
              "            '<a target=\"_blank\" href=https://colab.research.google.com/notebooks/data_table.ipynb>data table notebook</a>'\n",
              "            + ' to learn more about interactive tables.';\n",
              "          element.innerHTML = '';\n",
              "          dataTable['output_type'] = 'display_data';\n",
              "          await google.colab.output.renderOutput(dataTable, element);\n",
              "          const docLink = document.createElement('div');\n",
              "          docLink.innerHTML = docLinkHtml;\n",
              "          element.appendChild(docLink);\n",
              "        }\n",
              "      </script>\n",
              "    </div>\n",
              "  </div>\n",
              "  "
            ]
          },
          "metadata": {},
          "execution_count": 29
        }
      ]
    },
    {
      "cell_type": "code",
      "source": [
        "dia = datetime.now(tz=None).isoformat()\n",
        "dia"
      ],
      "metadata": {
        "colab": {
          "base_uri": "https://localhost:8080/",
          "height": 36
        },
        "id": "YaVJ0ClbxLwq",
        "outputId": "755ee411-83e7-4ca9-a649-99f9667a4224"
      },
      "execution_count": 30,
      "outputs": [
        {
          "output_type": "execute_result",
          "data": {
            "text/plain": [
              "'2023-02-23T21:33:16.425105'"
            ],
            "application/vnd.google.colaboratory.intrinsic+json": {
              "type": "string"
            }
          },
          "metadata": {},
          "execution_count": 30
        }
      ]
    },
    {
      "cell_type": "code",
      "source": [
        "print (datetime(2023, 2, 23, tzinfo=None).isoformat())\n",
        "#current date format -> 2014/01/03 05:00:00+00"
      ],
      "metadata": {
        "colab": {
          "base_uri": "https://localhost:8080/"
        },
        "id": "ExbZKhkTpTV4",
        "outputId": "36d40f00-e273-4c3b-88b4-d4032106c356"
      },
      "execution_count": 31,
      "outputs": [
        {
          "output_type": "stream",
          "name": "stdout",
          "text": [
            "2023-02-23T00:00:00\n"
          ]
        }
      ]
    },
    {
      "cell_type": "code",
      "source": [],
      "metadata": {
        "id": "snIZz8T-s6Kg"
      },
      "execution_count": null,
      "outputs": []
    },
    {
      "cell_type": "code",
      "source": [
        "data[\"days_since_reported\"]"
      ],
      "metadata": {
        "id": "D8mGDusDQHHf"
      },
      "execution_count": null,
      "outputs": []
    },
    {
      "cell_type": "code",
      "source": [],
      "metadata": {
        "id": "0rMguGQAi1w5"
      },
      "execution_count": null,
      "outputs": []
    },
    {
      "cell_type": "markdown",
      "source": [
        "# 4 - Prepare the data for ML algorithm\n"
      ],
      "metadata": {
        "id": "CvSNAXmLjX9j"
      }
    },
    {
      "cell_type": "code",
      "source": [],
      "metadata": {
        "id": "teLxHi48i1oP"
      },
      "execution_count": null,
      "outputs": []
    },
    {
      "cell_type": "code",
      "source": [],
      "metadata": {
        "id": "wEgj9u_Ejdz4"
      },
      "execution_count": null,
      "outputs": []
    },
    {
      "cell_type": "code",
      "source": [],
      "metadata": {
        "id": "WwJjxBCfjdtk"
      },
      "execution_count": null,
      "outputs": []
    },
    {
      "cell_type": "code",
      "source": [],
      "metadata": {
        "id": "RNDAJ_jejdjj"
      },
      "execution_count": null,
      "outputs": []
    },
    {
      "cell_type": "markdown",
      "source": [
        "# 5 - Select a Model and Train it"
      ],
      "metadata": {
        "id": "4rz0y90kjeYC"
      }
    },
    {
      "cell_type": "code",
      "source": [],
      "metadata": {
        "id": "OpUb0INIjmGS"
      },
      "execution_count": null,
      "outputs": []
    },
    {
      "cell_type": "code",
      "source": [],
      "metadata": {
        "id": "IMEhpmUkjl_k"
      },
      "execution_count": null,
      "outputs": []
    },
    {
      "cell_type": "code",
      "source": [],
      "metadata": {
        "id": "yLGd290Sjl5I"
      },
      "execution_count": null,
      "outputs": []
    },
    {
      "cell_type": "code",
      "source": [],
      "metadata": {
        "id": "76UV9eqzjlcD"
      },
      "execution_count": null,
      "outputs": []
    },
    {
      "cell_type": "markdown",
      "source": [
        "6 - Fine-tuning the model "
      ],
      "metadata": {
        "id": "qjP1yd9vjmxp"
      }
    },
    {
      "cell_type": "markdown",
      "source": [
        "# 6 - Fine-tunig the model"
      ],
      "metadata": {
        "id": "2leAa3-Kjvjh"
      }
    },
    {
      "cell_type": "markdown",
      "source": [
        "# Results and Model Performance "
      ],
      "metadata": {
        "id": "tox8iEO4j5Ex"
      }
    }
  ]
}