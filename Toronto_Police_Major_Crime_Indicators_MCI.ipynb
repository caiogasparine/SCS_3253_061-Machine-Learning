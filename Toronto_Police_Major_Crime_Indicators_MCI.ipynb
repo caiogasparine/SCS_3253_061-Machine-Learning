{
  "nbformat": 4,
  "nbformat_minor": 0,
  "metadata": {
    "colab": {
      "provenance": [],
      "include_colab_link": true
    },
    "kernelspec": {
      "name": "python3",
      "display_name": "Python 3"
    },
    "language_info": {
      "name": "python"
    }
  },
  "cells": [
    {
      "cell_type": "markdown",
      "metadata": {
        "id": "view-in-github",
        "colab_type": "text"
      },
      "source": [
        "<a href=\"https://colab.research.google.com/github/caiogasparine/SCS_3253_061-Machine-Learning/blob/main/Toronto_Police_Major_Crime_Indicators_MCI.ipynb\" target=\"_parent\"><img src=\"https://colab.research.google.com/assets/colab-badge.svg\" alt=\"Open In Colab\"/></a>"
      ]
    },
    {
      "cell_type": "markdown",
      "source": [
        "# **Source of Data: Major Crime Indicators (MCI) Historical**\n",
        "\n",
        "This dataset includes all Major Crime Indicators (MCI) occurrences by reported date and related offences from 2014 to June 30, 2022.\n",
        "\n",
        "https://data.torontopolice.on.ca/pages/major-crime-indicators\n"
      ],
      "metadata": {
        "id": "mahEdbqwl1m3"
      }
    },
    {
      "cell_type": "markdown",
      "source": [
        "# 1 - Import Libraries & Ingest Data"
      ],
      "metadata": {
        "id": "ejKoObZuopRY"
      }
    },
    {
      "cell_type": "code",
      "source": [
        "### Loading the main used libraries\n",
        "### Group 1\n",
        "\n",
        "import numpy as np\n",
        "import pandas as pd\n",
        "import statsmodels.formula.api as sm\n",
        "from pandas.plotting import scatter_matrix\n",
        "from google.colab import drive\n",
        "drive.mount('/content/drive')\n"
      ],
      "metadata": {
        "colab": {
          "base_uri": "https://localhost:8080/"
        },
        "id": "gXHNCSMTo1pP",
        "outputId": "c163a48c-60b4-4ff7-f249-cf42ed044b60"
      },
      "execution_count": 76,
      "outputs": [
        {
          "output_type": "stream",
          "name": "stdout",
          "text": [
            "Drive already mounted at /content/drive; to attempt to forcibly remount, call drive.mount(\"/content/drive\", force_remount=True).\n"
          ]
        }
      ]
    },
    {
      "cell_type": "code",
      "source": [
        "###data = pd.read_csv('Major_Crime_Indicators.csv', header=0)\n",
        "data = pd.read_csv('/content/drive/MyDrive/Colab Notebooks/Major_Crime_Indicators.csv', header=0)"
      ],
      "metadata": {
        "id": "JFvDBVSupMdo"
      },
      "execution_count": 77,
      "outputs": []
    },
    {
      "cell_type": "markdown",
      "source": [],
      "metadata": {
        "id": "CHRhX6s8zmCH"
      }
    },
    {
      "cell_type": "markdown",
      "metadata": {
        "id": "ejJ07r_nlIEA"
      },
      "source": [
        "# 2. Data Cleaning & Transformation\n",
        "\n",
        "Data profiling was done to ensure data quality and integrity. Contents of each field were analyzed for any anomalies and Null values. None we found."
      ]
    },
    {
      "cell_type": "code",
      "source": [
        "data.shape"
      ],
      "metadata": {
        "colab": {
          "base_uri": "https://localhost:8080/"
        },
        "id": "tMRn1wcZrwh-",
        "outputId": "bc6e2a82-a360-4e02-ae8a-8743f23d085d"
      },
      "execution_count": 78,
      "outputs": [
        {
          "output_type": "execute_result",
          "data": {
            "text/plain": [
              "(301233, 30)"
            ]
          },
          "metadata": {},
          "execution_count": 78
        }
      ]
    },
    {
      "cell_type": "code",
      "source": [
        "data.columns"
      ],
      "metadata": {
        "colab": {
          "base_uri": "https://localhost:8080/"
        },
        "id": "NaLj-LAYz2mv",
        "outputId": "d15e68a1-9f88-40a6-bd39-26fc54d80547"
      },
      "execution_count": 79,
      "outputs": [
        {
          "output_type": "execute_result",
          "data": {
            "text/plain": [
              "Index(['X', 'Y', 'Index_', 'event_unique_id', 'Division', 'occurrencedate',\n",
              "       'reporteddate', 'location_type', 'premises_type', 'ucr_code', 'ucr_ext',\n",
              "       'offence', 'reportedyear', 'reportedmonth', 'reportedday',\n",
              "       'reporteddayofyear', 'reporteddayofweek', 'reportedhour',\n",
              "       'occurrenceyear', 'occurrencemonth', 'occurrenceday',\n",
              "       'occurrencedayofyear', 'occurrencedayofweek', 'occurrencehour',\n",
              "       'mci_category', 'Hood_ID', 'Neighbourhood', 'Longitude', 'Latitude',\n",
              "       'ObjectId'],\n",
              "      dtype='object')"
            ]
          },
          "metadata": {},
          "execution_count": 79
        }
      ]
    },
    {
      "cell_type": "code",
      "source": [
        "data.head(5)"
      ],
      "metadata": {
        "colab": {
          "base_uri": "https://localhost:8080/",
          "height": 508
        },
        "id": "c2mnlsImz-4e",
        "outputId": "bc7c9d47-ff3b-48f4-b40f-556a0ea6e801"
      },
      "execution_count": 80,
      "outputs": [
        {
          "output_type": "execute_result",
          "data": {
            "text/plain": [
              "              X             Y  Index_ event_unique_id Division  \\\n",
              "0 -8.850398e+06  5.429359e+06     201  GO-20141273318      D31   \n",
              "1 -8.818405e+06  5.436836e+06     202  GO-20141274349      D42   \n",
              "2 -8.853791e+06  5.402071e+06     203  GO-20141274052      D22   \n",
              "3 -8.832822e+06  5.419628e+06     204  GO-20141276966      D53   \n",
              "4 -8.853452e+06  5.410706e+06     205  GO-20141274457      D22   \n",
              "\n",
              "           occurrencedate            reporteddate  \\\n",
              "0  2014/01/03 05:00:00+00  2014/01/03 05:00:00+00   \n",
              "1  2014/01/03 05:00:00+00  2014/01/03 05:00:00+00   \n",
              "2  2014/01/03 05:00:00+00  2014/01/03 05:00:00+00   \n",
              "3  2014/01/03 05:00:00+00  2014/01/03 05:00:00+00   \n",
              "4  2014/01/03 05:00:00+00  2014/01/03 05:00:00+00   \n",
              "\n",
              "                                       location_type premises_type  ucr_code  \\\n",
              "0                   Apartment (Rooming House, Condo)     Apartment      1430   \n",
              "1  Single Home, House (Attach Garage, Cottage, Mo...         House      2120   \n",
              "2                  Open Areas (Lakes, Parks, Rivers)       Outside      1430   \n",
              "3  Other Commercial / Corporate Places (For Profi...    Commercial      2130   \n",
              "4                                 Convenience Stores    Commercial      1610   \n",
              "\n",
              "   ...  occurrenceday occurrencedayofyear  occurrencedayofweek occurrencehour  \\\n",
              "0  ...            3.0                 3.0           Friday                 11   \n",
              "1  ...            3.0                 3.0           Friday                 14   \n",
              "2  ...            3.0                 3.0           Friday                 13   \n",
              "3  ...            3.0                 3.0           Friday                 12   \n",
              "4  ...            3.0                 3.0           Friday                 14   \n",
              "\n",
              "      mci_category  Hood_ID               Neighbourhood  Longitude   Latitude  \\\n",
              "0          Assault       27     York University Heights -79.504475  43.766371   \n",
              "1  Break and Enter      132                     Malvern -79.217083  43.814861   \n",
              "2          Assault       19                 Long Branch -79.534957  43.589085   \n",
              "3       Theft Over       55            Thorncliffe Park -79.346588  43.703212   \n",
              "4          Robbery       14  Islington-City Centre West -79.531916  43.645247   \n",
              "\n",
              "  ObjectId  \n",
              "0        1  \n",
              "1        2  \n",
              "2        3  \n",
              "3        4  \n",
              "4        5  \n",
              "\n",
              "[5 rows x 30 columns]"
            ],
            "text/html": [
              "\n",
              "  <div id=\"df-1b8a2422-fa90-4cb6-9361-bccad115d584\">\n",
              "    <div class=\"colab-df-container\">\n",
              "      <div>\n",
              "<style scoped>\n",
              "    .dataframe tbody tr th:only-of-type {\n",
              "        vertical-align: middle;\n",
              "    }\n",
              "\n",
              "    .dataframe tbody tr th {\n",
              "        vertical-align: top;\n",
              "    }\n",
              "\n",
              "    .dataframe thead th {\n",
              "        text-align: right;\n",
              "    }\n",
              "</style>\n",
              "<table border=\"1\" class=\"dataframe\">\n",
              "  <thead>\n",
              "    <tr style=\"text-align: right;\">\n",
              "      <th></th>\n",
              "      <th>X</th>\n",
              "      <th>Y</th>\n",
              "      <th>Index_</th>\n",
              "      <th>event_unique_id</th>\n",
              "      <th>Division</th>\n",
              "      <th>occurrencedate</th>\n",
              "      <th>reporteddate</th>\n",
              "      <th>location_type</th>\n",
              "      <th>premises_type</th>\n",
              "      <th>ucr_code</th>\n",
              "      <th>...</th>\n",
              "      <th>occurrenceday</th>\n",
              "      <th>occurrencedayofyear</th>\n",
              "      <th>occurrencedayofweek</th>\n",
              "      <th>occurrencehour</th>\n",
              "      <th>mci_category</th>\n",
              "      <th>Hood_ID</th>\n",
              "      <th>Neighbourhood</th>\n",
              "      <th>Longitude</th>\n",
              "      <th>Latitude</th>\n",
              "      <th>ObjectId</th>\n",
              "    </tr>\n",
              "  </thead>\n",
              "  <tbody>\n",
              "    <tr>\n",
              "      <th>0</th>\n",
              "      <td>-8.850398e+06</td>\n",
              "      <td>5.429359e+06</td>\n",
              "      <td>201</td>\n",
              "      <td>GO-20141273318</td>\n",
              "      <td>D31</td>\n",
              "      <td>2014/01/03 05:00:00+00</td>\n",
              "      <td>2014/01/03 05:00:00+00</td>\n",
              "      <td>Apartment (Rooming House, Condo)</td>\n",
              "      <td>Apartment</td>\n",
              "      <td>1430</td>\n",
              "      <td>...</td>\n",
              "      <td>3.0</td>\n",
              "      <td>3.0</td>\n",
              "      <td>Friday</td>\n",
              "      <td>11</td>\n",
              "      <td>Assault</td>\n",
              "      <td>27</td>\n",
              "      <td>York University Heights</td>\n",
              "      <td>-79.504475</td>\n",
              "      <td>43.766371</td>\n",
              "      <td>1</td>\n",
              "    </tr>\n",
              "    <tr>\n",
              "      <th>1</th>\n",
              "      <td>-8.818405e+06</td>\n",
              "      <td>5.436836e+06</td>\n",
              "      <td>202</td>\n",
              "      <td>GO-20141274349</td>\n",
              "      <td>D42</td>\n",
              "      <td>2014/01/03 05:00:00+00</td>\n",
              "      <td>2014/01/03 05:00:00+00</td>\n",
              "      <td>Single Home, House (Attach Garage, Cottage, Mo...</td>\n",
              "      <td>House</td>\n",
              "      <td>2120</td>\n",
              "      <td>...</td>\n",
              "      <td>3.0</td>\n",
              "      <td>3.0</td>\n",
              "      <td>Friday</td>\n",
              "      <td>14</td>\n",
              "      <td>Break and Enter</td>\n",
              "      <td>132</td>\n",
              "      <td>Malvern</td>\n",
              "      <td>-79.217083</td>\n",
              "      <td>43.814861</td>\n",
              "      <td>2</td>\n",
              "    </tr>\n",
              "    <tr>\n",
              "      <th>2</th>\n",
              "      <td>-8.853791e+06</td>\n",
              "      <td>5.402071e+06</td>\n",
              "      <td>203</td>\n",
              "      <td>GO-20141274052</td>\n",
              "      <td>D22</td>\n",
              "      <td>2014/01/03 05:00:00+00</td>\n",
              "      <td>2014/01/03 05:00:00+00</td>\n",
              "      <td>Open Areas (Lakes, Parks, Rivers)</td>\n",
              "      <td>Outside</td>\n",
              "      <td>1430</td>\n",
              "      <td>...</td>\n",
              "      <td>3.0</td>\n",
              "      <td>3.0</td>\n",
              "      <td>Friday</td>\n",
              "      <td>13</td>\n",
              "      <td>Assault</td>\n",
              "      <td>19</td>\n",
              "      <td>Long Branch</td>\n",
              "      <td>-79.534957</td>\n",
              "      <td>43.589085</td>\n",
              "      <td>3</td>\n",
              "    </tr>\n",
              "    <tr>\n",
              "      <th>3</th>\n",
              "      <td>-8.832822e+06</td>\n",
              "      <td>5.419628e+06</td>\n",
              "      <td>204</td>\n",
              "      <td>GO-20141276966</td>\n",
              "      <td>D53</td>\n",
              "      <td>2014/01/03 05:00:00+00</td>\n",
              "      <td>2014/01/03 05:00:00+00</td>\n",
              "      <td>Other Commercial / Corporate Places (For Profi...</td>\n",
              "      <td>Commercial</td>\n",
              "      <td>2130</td>\n",
              "      <td>...</td>\n",
              "      <td>3.0</td>\n",
              "      <td>3.0</td>\n",
              "      <td>Friday</td>\n",
              "      <td>12</td>\n",
              "      <td>Theft Over</td>\n",
              "      <td>55</td>\n",
              "      <td>Thorncliffe Park</td>\n",
              "      <td>-79.346588</td>\n",
              "      <td>43.703212</td>\n",
              "      <td>4</td>\n",
              "    </tr>\n",
              "    <tr>\n",
              "      <th>4</th>\n",
              "      <td>-8.853452e+06</td>\n",
              "      <td>5.410706e+06</td>\n",
              "      <td>205</td>\n",
              "      <td>GO-20141274457</td>\n",
              "      <td>D22</td>\n",
              "      <td>2014/01/03 05:00:00+00</td>\n",
              "      <td>2014/01/03 05:00:00+00</td>\n",
              "      <td>Convenience Stores</td>\n",
              "      <td>Commercial</td>\n",
              "      <td>1610</td>\n",
              "      <td>...</td>\n",
              "      <td>3.0</td>\n",
              "      <td>3.0</td>\n",
              "      <td>Friday</td>\n",
              "      <td>14</td>\n",
              "      <td>Robbery</td>\n",
              "      <td>14</td>\n",
              "      <td>Islington-City Centre West</td>\n",
              "      <td>-79.531916</td>\n",
              "      <td>43.645247</td>\n",
              "      <td>5</td>\n",
              "    </tr>\n",
              "  </tbody>\n",
              "</table>\n",
              "<p>5 rows × 30 columns</p>\n",
              "</div>\n",
              "      <button class=\"colab-df-convert\" onclick=\"convertToInteractive('df-1b8a2422-fa90-4cb6-9361-bccad115d584')\"\n",
              "              title=\"Convert this dataframe to an interactive table.\"\n",
              "              style=\"display:none;\">\n",
              "        \n",
              "  <svg xmlns=\"http://www.w3.org/2000/svg\" height=\"24px\"viewBox=\"0 0 24 24\"\n",
              "       width=\"24px\">\n",
              "    <path d=\"M0 0h24v24H0V0z\" fill=\"none\"/>\n",
              "    <path d=\"M18.56 5.44l.94 2.06.94-2.06 2.06-.94-2.06-.94-.94-2.06-.94 2.06-2.06.94zm-11 1L8.5 8.5l.94-2.06 2.06-.94-2.06-.94L8.5 2.5l-.94 2.06-2.06.94zm10 10l.94 2.06.94-2.06 2.06-.94-2.06-.94-.94-2.06-.94 2.06-2.06.94z\"/><path d=\"M17.41 7.96l-1.37-1.37c-.4-.4-.92-.59-1.43-.59-.52 0-1.04.2-1.43.59L10.3 9.45l-7.72 7.72c-.78.78-.78 2.05 0 2.83L4 21.41c.39.39.9.59 1.41.59.51 0 1.02-.2 1.41-.59l7.78-7.78 2.81-2.81c.8-.78.8-2.07 0-2.86zM5.41 20L4 18.59l7.72-7.72 1.47 1.35L5.41 20z\"/>\n",
              "  </svg>\n",
              "      </button>\n",
              "      \n",
              "  <style>\n",
              "    .colab-df-container {\n",
              "      display:flex;\n",
              "      flex-wrap:wrap;\n",
              "      gap: 12px;\n",
              "    }\n",
              "\n",
              "    .colab-df-convert {\n",
              "      background-color: #E8F0FE;\n",
              "      border: none;\n",
              "      border-radius: 50%;\n",
              "      cursor: pointer;\n",
              "      display: none;\n",
              "      fill: #1967D2;\n",
              "      height: 32px;\n",
              "      padding: 0 0 0 0;\n",
              "      width: 32px;\n",
              "    }\n",
              "\n",
              "    .colab-df-convert:hover {\n",
              "      background-color: #E2EBFA;\n",
              "      box-shadow: 0px 1px 2px rgba(60, 64, 67, 0.3), 0px 1px 3px 1px rgba(60, 64, 67, 0.15);\n",
              "      fill: #174EA6;\n",
              "    }\n",
              "\n",
              "    [theme=dark] .colab-df-convert {\n",
              "      background-color: #3B4455;\n",
              "      fill: #D2E3FC;\n",
              "    }\n",
              "\n",
              "    [theme=dark] .colab-df-convert:hover {\n",
              "      background-color: #434B5C;\n",
              "      box-shadow: 0px 1px 3px 1px rgba(0, 0, 0, 0.15);\n",
              "      filter: drop-shadow(0px 1px 2px rgba(0, 0, 0, 0.3));\n",
              "      fill: #FFFFFF;\n",
              "    }\n",
              "  </style>\n",
              "\n",
              "      <script>\n",
              "        const buttonEl =\n",
              "          document.querySelector('#df-1b8a2422-fa90-4cb6-9361-bccad115d584 button.colab-df-convert');\n",
              "        buttonEl.style.display =\n",
              "          google.colab.kernel.accessAllowed ? 'block' : 'none';\n",
              "\n",
              "        async function convertToInteractive(key) {\n",
              "          const element = document.querySelector('#df-1b8a2422-fa90-4cb6-9361-bccad115d584');\n",
              "          const dataTable =\n",
              "            await google.colab.kernel.invokeFunction('convertToInteractive',\n",
              "                                                     [key], {});\n",
              "          if (!dataTable) return;\n",
              "\n",
              "          const docLinkHtml = 'Like what you see? Visit the ' +\n",
              "            '<a target=\"_blank\" href=https://colab.research.google.com/notebooks/data_table.ipynb>data table notebook</a>'\n",
              "            + ' to learn more about interactive tables.';\n",
              "          element.innerHTML = '';\n",
              "          dataTable['output_type'] = 'display_data';\n",
              "          await google.colab.output.renderOutput(dataTable, element);\n",
              "          const docLink = document.createElement('div');\n",
              "          docLink.innerHTML = docLinkHtml;\n",
              "          element.appendChild(docLink);\n",
              "        }\n",
              "      </script>\n",
              "    </div>\n",
              "  </div>\n",
              "  "
            ]
          },
          "metadata": {},
          "execution_count": 80
        }
      ]
    },
    {
      "cell_type": "code",
      "source": [
        "data.info()"
      ],
      "metadata": {
        "colab": {
          "base_uri": "https://localhost:8080/"
        },
        "id": "6hhwSOfmu-tS",
        "outputId": "91ff6fa0-bde7-4d09-d9ff-2b7e0deee311"
      },
      "execution_count": 81,
      "outputs": [
        {
          "output_type": "stream",
          "name": "stdout",
          "text": [
            "<class 'pandas.core.frame.DataFrame'>\n",
            "RangeIndex: 301233 entries, 0 to 301232\n",
            "Data columns (total 30 columns):\n",
            " #   Column               Non-Null Count   Dtype  \n",
            "---  ------               --------------   -----  \n",
            " 0   X                    301233 non-null  float64\n",
            " 1   Y                    301233 non-null  float64\n",
            " 2   Index_               301233 non-null  int64  \n",
            " 3   event_unique_id      301233 non-null  object \n",
            " 4   Division             301233 non-null  object \n",
            " 5   occurrencedate       301233 non-null  object \n",
            " 6   reporteddate         301233 non-null  object \n",
            " 7   location_type        301233 non-null  object \n",
            " 8   premises_type        301233 non-null  object \n",
            " 9   ucr_code             301233 non-null  int64  \n",
            " 10  ucr_ext              301233 non-null  int64  \n",
            " 11  offence              301233 non-null  object \n",
            " 12  reportedyear         301233 non-null  int64  \n",
            " 13  reportedmonth        301233 non-null  object \n",
            " 14  reportedday          301233 non-null  int64  \n",
            " 15  reporteddayofyear    301233 non-null  int64  \n",
            " 16  reporteddayofweek    301233 non-null  object \n",
            " 17  reportedhour         301233 non-null  int64  \n",
            " 18  occurrenceyear       301133 non-null  float64\n",
            " 19  occurrencemonth      301133 non-null  object \n",
            " 20  occurrenceday        301133 non-null  float64\n",
            " 21  occurrencedayofyear  301133 non-null  float64\n",
            " 22  occurrencedayofweek  301133 non-null  object \n",
            " 23  occurrencehour       301233 non-null  int64  \n",
            " 24  mci_category         301233 non-null  object \n",
            " 25  Hood_ID              301233 non-null  object \n",
            " 26  Neighbourhood        301233 non-null  object \n",
            " 27  Longitude            301233 non-null  float64\n",
            " 28  Latitude             301233 non-null  float64\n",
            " 29  ObjectId             301233 non-null  int64  \n",
            "dtypes: float64(7), int64(9), object(14)\n",
            "memory usage: 68.9+ MB\n"
          ]
        }
      ]
    },
    {
      "cell_type": "code",
      "source": [
        "data['mci_category'].value_counts()"
      ],
      "metadata": {
        "colab": {
          "base_uri": "https://localhost:8080/"
        },
        "id": "rk5uDVGuZn2K",
        "outputId": "3b6cb87c-104d-4f23-e71e-017321a794dd"
      },
      "execution_count": 82,
      "outputs": [
        {
          "output_type": "execute_result",
          "data": {
            "text/plain": [
              "Assault            161833\n",
              "Break and Enter     59440\n",
              "Auto Theft          40794\n",
              "Robbery             29230\n",
              "Theft Over           9936\n",
              "Name: mci_category, dtype: int64"
            ]
          },
          "metadata": {},
          "execution_count": 82
        }
      ]
    },
    {
      "cell_type": "code",
      "source": [
        "data.describe()"
      ],
      "metadata": {
        "colab": {
          "base_uri": "https://localhost:8080/",
          "height": 300
        },
        "id": "EKXl7ezQ0Rm2",
        "outputId": "5324d075-e3b5-4564-89c3-dcaf1883c937"
      },
      "execution_count": 83,
      "outputs": [
        {
          "output_type": "execute_result",
          "data": {
            "text/plain": [
              "                  X             Y         Index_       ucr_code  \\\n",
              "count  3.012330e+05  3.012330e+05  301233.000000  301233.000000   \n",
              "mean  -8.724562e+06  5.350375e+06  150617.000000    1702.422928   \n",
              "std    9.966746e+05  6.112283e+05   86958.621157     326.260102   \n",
              "min   -8.910331e+06  0.000000e+00       1.000000    1410.000000   \n",
              "25%   -8.846681e+06  5.412946e+06   75309.000000    1430.000000   \n",
              "50%   -8.838015e+06  5.419000e+06  150617.000000    1450.000000   \n",
              "75%   -8.829868e+06  5.426986e+06  225925.000000    2120.000000   \n",
              "max    0.000000e+00  5.517228e+06  301233.000000    2135.000000   \n",
              "\n",
              "             ucr_ext   reportedyear    reportedday  reporteddayofyear  \\\n",
              "count  301233.000000  301233.000000  301233.000000      301233.000000   \n",
              "mean      146.565585    2017.876713      15.736659         180.765756   \n",
              "std        51.988967       2.436940       8.766766         103.717225   \n",
              "min       100.000000    2014.000000       1.000000           1.000000   \n",
              "25%       100.000000    2016.000000       8.000000          92.000000   \n",
              "50%       100.000000    2018.000000      16.000000         178.000000   \n",
              "75%       200.000000    2020.000000      23.000000         270.000000   \n",
              "max       230.000000    2022.000000      31.000000         366.000000   \n",
              "\n",
              "        reportedhour  occurrenceyear  occurrenceday  occurrencedayofyear  \\\n",
              "count  301233.000000   301133.000000  301133.000000        301133.000000   \n",
              "mean       12.808786     2017.822852      15.456476           180.544766   \n",
              "std         6.502562        2.475716       8.914754           104.141362   \n",
              "min         0.000000     2000.000000       1.000000             1.000000   \n",
              "25%         8.000000     2016.000000       8.000000            92.000000   \n",
              "50%        13.000000     2018.000000      15.000000           178.000000   \n",
              "75%        18.000000     2020.000000      23.000000           270.000000   \n",
              "max        23.000000     2022.000000      31.000000           366.000000   \n",
              "\n",
              "       occurrencehour      Longitude       Latitude       ObjectId  \n",
              "count   301233.000000  301233.000000  301233.000000  301233.000000  \n",
              "mean        12.601591     -78.374071      43.143874  150617.000000  \n",
              "std          7.243753       8.953280       4.928613   86958.621157  \n",
              "min          0.000000     -80.042866       0.000000       1.000000  \n",
              "25%          7.000000     -79.471086      43.659806   75309.000000  \n",
              "50%         14.000000     -79.393238      43.699132  150617.000000  \n",
              "75%         19.000000     -79.320056      43.750978  225925.000000  \n",
              "max         23.000000       0.000000      44.333691  301233.000000  "
            ],
            "text/html": [
              "\n",
              "  <div id=\"df-99d78608-9249-422b-b060-76b283c1a582\">\n",
              "    <div class=\"colab-df-container\">\n",
              "      <div>\n",
              "<style scoped>\n",
              "    .dataframe tbody tr th:only-of-type {\n",
              "        vertical-align: middle;\n",
              "    }\n",
              "\n",
              "    .dataframe tbody tr th {\n",
              "        vertical-align: top;\n",
              "    }\n",
              "\n",
              "    .dataframe thead th {\n",
              "        text-align: right;\n",
              "    }\n",
              "</style>\n",
              "<table border=\"1\" class=\"dataframe\">\n",
              "  <thead>\n",
              "    <tr style=\"text-align: right;\">\n",
              "      <th></th>\n",
              "      <th>X</th>\n",
              "      <th>Y</th>\n",
              "      <th>Index_</th>\n",
              "      <th>ucr_code</th>\n",
              "      <th>ucr_ext</th>\n",
              "      <th>reportedyear</th>\n",
              "      <th>reportedday</th>\n",
              "      <th>reporteddayofyear</th>\n",
              "      <th>reportedhour</th>\n",
              "      <th>occurrenceyear</th>\n",
              "      <th>occurrenceday</th>\n",
              "      <th>occurrencedayofyear</th>\n",
              "      <th>occurrencehour</th>\n",
              "      <th>Longitude</th>\n",
              "      <th>Latitude</th>\n",
              "      <th>ObjectId</th>\n",
              "    </tr>\n",
              "  </thead>\n",
              "  <tbody>\n",
              "    <tr>\n",
              "      <th>count</th>\n",
              "      <td>3.012330e+05</td>\n",
              "      <td>3.012330e+05</td>\n",
              "      <td>301233.000000</td>\n",
              "      <td>301233.000000</td>\n",
              "      <td>301233.000000</td>\n",
              "      <td>301233.000000</td>\n",
              "      <td>301233.000000</td>\n",
              "      <td>301233.000000</td>\n",
              "      <td>301233.000000</td>\n",
              "      <td>301133.000000</td>\n",
              "      <td>301133.000000</td>\n",
              "      <td>301133.000000</td>\n",
              "      <td>301233.000000</td>\n",
              "      <td>301233.000000</td>\n",
              "      <td>301233.000000</td>\n",
              "      <td>301233.000000</td>\n",
              "    </tr>\n",
              "    <tr>\n",
              "      <th>mean</th>\n",
              "      <td>-8.724562e+06</td>\n",
              "      <td>5.350375e+06</td>\n",
              "      <td>150617.000000</td>\n",
              "      <td>1702.422928</td>\n",
              "      <td>146.565585</td>\n",
              "      <td>2017.876713</td>\n",
              "      <td>15.736659</td>\n",
              "      <td>180.765756</td>\n",
              "      <td>12.808786</td>\n",
              "      <td>2017.822852</td>\n",
              "      <td>15.456476</td>\n",
              "      <td>180.544766</td>\n",
              "      <td>12.601591</td>\n",
              "      <td>-78.374071</td>\n",
              "      <td>43.143874</td>\n",
              "      <td>150617.000000</td>\n",
              "    </tr>\n",
              "    <tr>\n",
              "      <th>std</th>\n",
              "      <td>9.966746e+05</td>\n",
              "      <td>6.112283e+05</td>\n",
              "      <td>86958.621157</td>\n",
              "      <td>326.260102</td>\n",
              "      <td>51.988967</td>\n",
              "      <td>2.436940</td>\n",
              "      <td>8.766766</td>\n",
              "      <td>103.717225</td>\n",
              "      <td>6.502562</td>\n",
              "      <td>2.475716</td>\n",
              "      <td>8.914754</td>\n",
              "      <td>104.141362</td>\n",
              "      <td>7.243753</td>\n",
              "      <td>8.953280</td>\n",
              "      <td>4.928613</td>\n",
              "      <td>86958.621157</td>\n",
              "    </tr>\n",
              "    <tr>\n",
              "      <th>min</th>\n",
              "      <td>-8.910331e+06</td>\n",
              "      <td>0.000000e+00</td>\n",
              "      <td>1.000000</td>\n",
              "      <td>1410.000000</td>\n",
              "      <td>100.000000</td>\n",
              "      <td>2014.000000</td>\n",
              "      <td>1.000000</td>\n",
              "      <td>1.000000</td>\n",
              "      <td>0.000000</td>\n",
              "      <td>2000.000000</td>\n",
              "      <td>1.000000</td>\n",
              "      <td>1.000000</td>\n",
              "      <td>0.000000</td>\n",
              "      <td>-80.042866</td>\n",
              "      <td>0.000000</td>\n",
              "      <td>1.000000</td>\n",
              "    </tr>\n",
              "    <tr>\n",
              "      <th>25%</th>\n",
              "      <td>-8.846681e+06</td>\n",
              "      <td>5.412946e+06</td>\n",
              "      <td>75309.000000</td>\n",
              "      <td>1430.000000</td>\n",
              "      <td>100.000000</td>\n",
              "      <td>2016.000000</td>\n",
              "      <td>8.000000</td>\n",
              "      <td>92.000000</td>\n",
              "      <td>8.000000</td>\n",
              "      <td>2016.000000</td>\n",
              "      <td>8.000000</td>\n",
              "      <td>92.000000</td>\n",
              "      <td>7.000000</td>\n",
              "      <td>-79.471086</td>\n",
              "      <td>43.659806</td>\n",
              "      <td>75309.000000</td>\n",
              "    </tr>\n",
              "    <tr>\n",
              "      <th>50%</th>\n",
              "      <td>-8.838015e+06</td>\n",
              "      <td>5.419000e+06</td>\n",
              "      <td>150617.000000</td>\n",
              "      <td>1450.000000</td>\n",
              "      <td>100.000000</td>\n",
              "      <td>2018.000000</td>\n",
              "      <td>16.000000</td>\n",
              "      <td>178.000000</td>\n",
              "      <td>13.000000</td>\n",
              "      <td>2018.000000</td>\n",
              "      <td>15.000000</td>\n",
              "      <td>178.000000</td>\n",
              "      <td>14.000000</td>\n",
              "      <td>-79.393238</td>\n",
              "      <td>43.699132</td>\n",
              "      <td>150617.000000</td>\n",
              "    </tr>\n",
              "    <tr>\n",
              "      <th>75%</th>\n",
              "      <td>-8.829868e+06</td>\n",
              "      <td>5.426986e+06</td>\n",
              "      <td>225925.000000</td>\n",
              "      <td>2120.000000</td>\n",
              "      <td>200.000000</td>\n",
              "      <td>2020.000000</td>\n",
              "      <td>23.000000</td>\n",
              "      <td>270.000000</td>\n",
              "      <td>18.000000</td>\n",
              "      <td>2020.000000</td>\n",
              "      <td>23.000000</td>\n",
              "      <td>270.000000</td>\n",
              "      <td>19.000000</td>\n",
              "      <td>-79.320056</td>\n",
              "      <td>43.750978</td>\n",
              "      <td>225925.000000</td>\n",
              "    </tr>\n",
              "    <tr>\n",
              "      <th>max</th>\n",
              "      <td>0.000000e+00</td>\n",
              "      <td>5.517228e+06</td>\n",
              "      <td>301233.000000</td>\n",
              "      <td>2135.000000</td>\n",
              "      <td>230.000000</td>\n",
              "      <td>2022.000000</td>\n",
              "      <td>31.000000</td>\n",
              "      <td>366.000000</td>\n",
              "      <td>23.000000</td>\n",
              "      <td>2022.000000</td>\n",
              "      <td>31.000000</td>\n",
              "      <td>366.000000</td>\n",
              "      <td>23.000000</td>\n",
              "      <td>0.000000</td>\n",
              "      <td>44.333691</td>\n",
              "      <td>301233.000000</td>\n",
              "    </tr>\n",
              "  </tbody>\n",
              "</table>\n",
              "</div>\n",
              "      <button class=\"colab-df-convert\" onclick=\"convertToInteractive('df-99d78608-9249-422b-b060-76b283c1a582')\"\n",
              "              title=\"Convert this dataframe to an interactive table.\"\n",
              "              style=\"display:none;\">\n",
              "        \n",
              "  <svg xmlns=\"http://www.w3.org/2000/svg\" height=\"24px\"viewBox=\"0 0 24 24\"\n",
              "       width=\"24px\">\n",
              "    <path d=\"M0 0h24v24H0V0z\" fill=\"none\"/>\n",
              "    <path d=\"M18.56 5.44l.94 2.06.94-2.06 2.06-.94-2.06-.94-.94-2.06-.94 2.06-2.06.94zm-11 1L8.5 8.5l.94-2.06 2.06-.94-2.06-.94L8.5 2.5l-.94 2.06-2.06.94zm10 10l.94 2.06.94-2.06 2.06-.94-2.06-.94-.94-2.06-.94 2.06-2.06.94z\"/><path d=\"M17.41 7.96l-1.37-1.37c-.4-.4-.92-.59-1.43-.59-.52 0-1.04.2-1.43.59L10.3 9.45l-7.72 7.72c-.78.78-.78 2.05 0 2.83L4 21.41c.39.39.9.59 1.41.59.51 0 1.02-.2 1.41-.59l7.78-7.78 2.81-2.81c.8-.78.8-2.07 0-2.86zM5.41 20L4 18.59l7.72-7.72 1.47 1.35L5.41 20z\"/>\n",
              "  </svg>\n",
              "      </button>\n",
              "      \n",
              "  <style>\n",
              "    .colab-df-container {\n",
              "      display:flex;\n",
              "      flex-wrap:wrap;\n",
              "      gap: 12px;\n",
              "    }\n",
              "\n",
              "    .colab-df-convert {\n",
              "      background-color: #E8F0FE;\n",
              "      border: none;\n",
              "      border-radius: 50%;\n",
              "      cursor: pointer;\n",
              "      display: none;\n",
              "      fill: #1967D2;\n",
              "      height: 32px;\n",
              "      padding: 0 0 0 0;\n",
              "      width: 32px;\n",
              "    }\n",
              "\n",
              "    .colab-df-convert:hover {\n",
              "      background-color: #E2EBFA;\n",
              "      box-shadow: 0px 1px 2px rgba(60, 64, 67, 0.3), 0px 1px 3px 1px rgba(60, 64, 67, 0.15);\n",
              "      fill: #174EA6;\n",
              "    }\n",
              "\n",
              "    [theme=dark] .colab-df-convert {\n",
              "      background-color: #3B4455;\n",
              "      fill: #D2E3FC;\n",
              "    }\n",
              "\n",
              "    [theme=dark] .colab-df-convert:hover {\n",
              "      background-color: #434B5C;\n",
              "      box-shadow: 0px 1px 3px 1px rgba(0, 0, 0, 0.15);\n",
              "      filter: drop-shadow(0px 1px 2px rgba(0, 0, 0, 0.3));\n",
              "      fill: #FFFFFF;\n",
              "    }\n",
              "  </style>\n",
              "\n",
              "      <script>\n",
              "        const buttonEl =\n",
              "          document.querySelector('#df-99d78608-9249-422b-b060-76b283c1a582 button.colab-df-convert');\n",
              "        buttonEl.style.display =\n",
              "          google.colab.kernel.accessAllowed ? 'block' : 'none';\n",
              "\n",
              "        async function convertToInteractive(key) {\n",
              "          const element = document.querySelector('#df-99d78608-9249-422b-b060-76b283c1a582');\n",
              "          const dataTable =\n",
              "            await google.colab.kernel.invokeFunction('convertToInteractive',\n",
              "                                                     [key], {});\n",
              "          if (!dataTable) return;\n",
              "\n",
              "          const docLinkHtml = 'Like what you see? Visit the ' +\n",
              "            '<a target=\"_blank\" href=https://colab.research.google.com/notebooks/data_table.ipynb>data table notebook</a>'\n",
              "            + ' to learn more about interactive tables.';\n",
              "          element.innerHTML = '';\n",
              "          dataTable['output_type'] = 'display_data';\n",
              "          await google.colab.output.renderOutput(dataTable, element);\n",
              "          const docLink = document.createElement('div');\n",
              "          docLink.innerHTML = docLinkHtml;\n",
              "          element.appendChild(docLink);\n",
              "        }\n",
              "      </script>\n",
              "    </div>\n",
              "  </div>\n",
              "  "
            ]
          },
          "metadata": {},
          "execution_count": 83
        }
      ]
    },
    {
      "cell_type": "code",
      "source": [
        "# Check if any column has missing values (\"False\" = not missing - \"True\" = missing)\n",
        "data.isnull().any()"
      ],
      "metadata": {
        "colab": {
          "base_uri": "https://localhost:8080/"
        },
        "id": "TGdgOUMF0fPQ",
        "outputId": "e1c1b010-5b92-4f32-e088-67f96cdd553a"
      },
      "execution_count": 84,
      "outputs": [
        {
          "output_type": "execute_result",
          "data": {
            "text/plain": [
              "X                      False\n",
              "Y                      False\n",
              "Index_                 False\n",
              "event_unique_id        False\n",
              "Division               False\n",
              "occurrencedate         False\n",
              "reporteddate           False\n",
              "location_type          False\n",
              "premises_type          False\n",
              "ucr_code               False\n",
              "ucr_ext                False\n",
              "offence                False\n",
              "reportedyear           False\n",
              "reportedmonth          False\n",
              "reportedday            False\n",
              "reporteddayofyear      False\n",
              "reporteddayofweek      False\n",
              "reportedhour           False\n",
              "occurrenceyear          True\n",
              "occurrencemonth         True\n",
              "occurrenceday           True\n",
              "occurrencedayofyear     True\n",
              "occurrencedayofweek     True\n",
              "occurrencehour         False\n",
              "mci_category           False\n",
              "Hood_ID                False\n",
              "Neighbourhood          False\n",
              "Longitude              False\n",
              "Latitude               False\n",
              "ObjectId               False\n",
              "dtype: bool"
            ]
          },
          "metadata": {},
          "execution_count": 84
        }
      ]
    },
    {
      "cell_type": "code",
      "source": [
        "data[['mci_category','offence','ucr_ext']]"
      ],
      "metadata": {
        "colab": {
          "base_uri": "https://localhost:8080/",
          "height": 423
        },
        "id": "JXOepy8qcKcD",
        "outputId": "34b9f88f-bb5e-406e-88ec-cf3e867263b3"
      },
      "execution_count": 85,
      "outputs": [
        {
          "output_type": "execute_result",
          "data": {
            "text/plain": [
              "           mci_category                 offence  ucr_ext\n",
              "0               Assault                 Assault      100\n",
              "1       Break and Enter                     B&E      200\n",
              "2               Assault                 Assault      100\n",
              "3            Theft Over              Theft Over      210\n",
              "4               Robbery      Robbery - Business      210\n",
              "...                 ...                     ...      ...\n",
              "301228       Auto Theft  Theft Of Motor Vehicle      210\n",
              "301229       Auto Theft  Theft Of Motor Vehicle      210\n",
              "301230       Auto Theft  Theft Of Motor Vehicle      210\n",
              "301231       Auto Theft  Theft Of Motor Vehicle      210\n",
              "301232       Auto Theft  Theft Of Motor Vehicle      210\n",
              "\n",
              "[301233 rows x 3 columns]"
            ],
            "text/html": [
              "\n",
              "  <div id=\"df-54268c50-a2c3-483d-8cf8-e1a04e60107b\">\n",
              "    <div class=\"colab-df-container\">\n",
              "      <div>\n",
              "<style scoped>\n",
              "    .dataframe tbody tr th:only-of-type {\n",
              "        vertical-align: middle;\n",
              "    }\n",
              "\n",
              "    .dataframe tbody tr th {\n",
              "        vertical-align: top;\n",
              "    }\n",
              "\n",
              "    .dataframe thead th {\n",
              "        text-align: right;\n",
              "    }\n",
              "</style>\n",
              "<table border=\"1\" class=\"dataframe\">\n",
              "  <thead>\n",
              "    <tr style=\"text-align: right;\">\n",
              "      <th></th>\n",
              "      <th>mci_category</th>\n",
              "      <th>offence</th>\n",
              "      <th>ucr_ext</th>\n",
              "    </tr>\n",
              "  </thead>\n",
              "  <tbody>\n",
              "    <tr>\n",
              "      <th>0</th>\n",
              "      <td>Assault</td>\n",
              "      <td>Assault</td>\n",
              "      <td>100</td>\n",
              "    </tr>\n",
              "    <tr>\n",
              "      <th>1</th>\n",
              "      <td>Break and Enter</td>\n",
              "      <td>B&amp;E</td>\n",
              "      <td>200</td>\n",
              "    </tr>\n",
              "    <tr>\n",
              "      <th>2</th>\n",
              "      <td>Assault</td>\n",
              "      <td>Assault</td>\n",
              "      <td>100</td>\n",
              "    </tr>\n",
              "    <tr>\n",
              "      <th>3</th>\n",
              "      <td>Theft Over</td>\n",
              "      <td>Theft Over</td>\n",
              "      <td>210</td>\n",
              "    </tr>\n",
              "    <tr>\n",
              "      <th>4</th>\n",
              "      <td>Robbery</td>\n",
              "      <td>Robbery - Business</td>\n",
              "      <td>210</td>\n",
              "    </tr>\n",
              "    <tr>\n",
              "      <th>...</th>\n",
              "      <td>...</td>\n",
              "      <td>...</td>\n",
              "      <td>...</td>\n",
              "    </tr>\n",
              "    <tr>\n",
              "      <th>301228</th>\n",
              "      <td>Auto Theft</td>\n",
              "      <td>Theft Of Motor Vehicle</td>\n",
              "      <td>210</td>\n",
              "    </tr>\n",
              "    <tr>\n",
              "      <th>301229</th>\n",
              "      <td>Auto Theft</td>\n",
              "      <td>Theft Of Motor Vehicle</td>\n",
              "      <td>210</td>\n",
              "    </tr>\n",
              "    <tr>\n",
              "      <th>301230</th>\n",
              "      <td>Auto Theft</td>\n",
              "      <td>Theft Of Motor Vehicle</td>\n",
              "      <td>210</td>\n",
              "    </tr>\n",
              "    <tr>\n",
              "      <th>301231</th>\n",
              "      <td>Auto Theft</td>\n",
              "      <td>Theft Of Motor Vehicle</td>\n",
              "      <td>210</td>\n",
              "    </tr>\n",
              "    <tr>\n",
              "      <th>301232</th>\n",
              "      <td>Auto Theft</td>\n",
              "      <td>Theft Of Motor Vehicle</td>\n",
              "      <td>210</td>\n",
              "    </tr>\n",
              "  </tbody>\n",
              "</table>\n",
              "<p>301233 rows × 3 columns</p>\n",
              "</div>\n",
              "      <button class=\"colab-df-convert\" onclick=\"convertToInteractive('df-54268c50-a2c3-483d-8cf8-e1a04e60107b')\"\n",
              "              title=\"Convert this dataframe to an interactive table.\"\n",
              "              style=\"display:none;\">\n",
              "        \n",
              "  <svg xmlns=\"http://www.w3.org/2000/svg\" height=\"24px\"viewBox=\"0 0 24 24\"\n",
              "       width=\"24px\">\n",
              "    <path d=\"M0 0h24v24H0V0z\" fill=\"none\"/>\n",
              "    <path d=\"M18.56 5.44l.94 2.06.94-2.06 2.06-.94-2.06-.94-.94-2.06-.94 2.06-2.06.94zm-11 1L8.5 8.5l.94-2.06 2.06-.94-2.06-.94L8.5 2.5l-.94 2.06-2.06.94zm10 10l.94 2.06.94-2.06 2.06-.94-2.06-.94-.94-2.06-.94 2.06-2.06.94z\"/><path d=\"M17.41 7.96l-1.37-1.37c-.4-.4-.92-.59-1.43-.59-.52 0-1.04.2-1.43.59L10.3 9.45l-7.72 7.72c-.78.78-.78 2.05 0 2.83L4 21.41c.39.39.9.59 1.41.59.51 0 1.02-.2 1.41-.59l7.78-7.78 2.81-2.81c.8-.78.8-2.07 0-2.86zM5.41 20L4 18.59l7.72-7.72 1.47 1.35L5.41 20z\"/>\n",
              "  </svg>\n",
              "      </button>\n",
              "      \n",
              "  <style>\n",
              "    .colab-df-container {\n",
              "      display:flex;\n",
              "      flex-wrap:wrap;\n",
              "      gap: 12px;\n",
              "    }\n",
              "\n",
              "    .colab-df-convert {\n",
              "      background-color: #E8F0FE;\n",
              "      border: none;\n",
              "      border-radius: 50%;\n",
              "      cursor: pointer;\n",
              "      display: none;\n",
              "      fill: #1967D2;\n",
              "      height: 32px;\n",
              "      padding: 0 0 0 0;\n",
              "      width: 32px;\n",
              "    }\n",
              "\n",
              "    .colab-df-convert:hover {\n",
              "      background-color: #E2EBFA;\n",
              "      box-shadow: 0px 1px 2px rgba(60, 64, 67, 0.3), 0px 1px 3px 1px rgba(60, 64, 67, 0.15);\n",
              "      fill: #174EA6;\n",
              "    }\n",
              "\n",
              "    [theme=dark] .colab-df-convert {\n",
              "      background-color: #3B4455;\n",
              "      fill: #D2E3FC;\n",
              "    }\n",
              "\n",
              "    [theme=dark] .colab-df-convert:hover {\n",
              "      background-color: #434B5C;\n",
              "      box-shadow: 0px 1px 3px 1px rgba(0, 0, 0, 0.15);\n",
              "      filter: drop-shadow(0px 1px 2px rgba(0, 0, 0, 0.3));\n",
              "      fill: #FFFFFF;\n",
              "    }\n",
              "  </style>\n",
              "\n",
              "      <script>\n",
              "        const buttonEl =\n",
              "          document.querySelector('#df-54268c50-a2c3-483d-8cf8-e1a04e60107b button.colab-df-convert');\n",
              "        buttonEl.style.display =\n",
              "          google.colab.kernel.accessAllowed ? 'block' : 'none';\n",
              "\n",
              "        async function convertToInteractive(key) {\n",
              "          const element = document.querySelector('#df-54268c50-a2c3-483d-8cf8-e1a04e60107b');\n",
              "          const dataTable =\n",
              "            await google.colab.kernel.invokeFunction('convertToInteractive',\n",
              "                                                     [key], {});\n",
              "          if (!dataTable) return;\n",
              "\n",
              "          const docLinkHtml = 'Like what you see? Visit the ' +\n",
              "            '<a target=\"_blank\" href=https://colab.research.google.com/notebooks/data_table.ipynb>data table notebook</a>'\n",
              "            + ' to learn more about interactive tables.';\n",
              "          element.innerHTML = '';\n",
              "          dataTable['output_type'] = 'display_data';\n",
              "          await google.colab.output.renderOutput(dataTable, element);\n",
              "          const docLink = document.createElement('div');\n",
              "          docLink.innerHTML = docLinkHtml;\n",
              "          element.appendChild(docLink);\n",
              "        }\n",
              "      </script>\n",
              "    </div>\n",
              "  </div>\n",
              "  "
            ]
          },
          "metadata": {},
          "execution_count": 85
        }
      ]
    },
    {
      "cell_type": "code",
      "source": [
        "data[\"mci_category\"].value_counts()"
      ],
      "metadata": {
        "colab": {
          "base_uri": "https://localhost:8080/"
        },
        "id": "Q5Zq5Z_Fudnk",
        "outputId": "132b26a2-ff6f-47ef-ab0f-3523913a700d"
      },
      "execution_count": 86,
      "outputs": [
        {
          "output_type": "execute_result",
          "data": {
            "text/plain": [
              "Assault            161833\n",
              "Break and Enter     59440\n",
              "Auto Theft          40794\n",
              "Robbery             29230\n",
              "Theft Over           9936\n",
              "Name: mci_category, dtype: int64"
            ]
          },
          "metadata": {},
          "execution_count": 86
        }
      ]
    },
    {
      "cell_type": "code",
      "source": [
        "data[['Latitude','Longitude']]"
      ],
      "metadata": {
        "colab": {
          "base_uri": "https://localhost:8080/",
          "height": 423
        },
        "id": "LeVEdlH0tRpz",
        "outputId": "3204b5cc-190d-40f6-a5f1-e5203fc63cbb"
      },
      "execution_count": 87,
      "outputs": [
        {
          "output_type": "execute_result",
          "data": {
            "text/plain": [
              "         Latitude  Longitude\n",
              "0       43.766371 -79.504475\n",
              "1       43.814861 -79.217083\n",
              "2       43.589085 -79.534957\n",
              "3       43.703212 -79.346588\n",
              "4       43.645247 -79.531916\n",
              "...           ...        ...\n",
              "301228  43.790363 -79.455098\n",
              "301229  43.775740 -79.234954\n",
              "301230  43.765801 -79.281037\n",
              "301231   0.000000   0.000000\n",
              "301232  43.750849 -79.542092\n",
              "\n",
              "[301233 rows x 2 columns]"
            ],
            "text/html": [
              "\n",
              "  <div id=\"df-c65dabc2-cb20-4c87-8bfb-82ae824fc94f\">\n",
              "    <div class=\"colab-df-container\">\n",
              "      <div>\n",
              "<style scoped>\n",
              "    .dataframe tbody tr th:only-of-type {\n",
              "        vertical-align: middle;\n",
              "    }\n",
              "\n",
              "    .dataframe tbody tr th {\n",
              "        vertical-align: top;\n",
              "    }\n",
              "\n",
              "    .dataframe thead th {\n",
              "        text-align: right;\n",
              "    }\n",
              "</style>\n",
              "<table border=\"1\" class=\"dataframe\">\n",
              "  <thead>\n",
              "    <tr style=\"text-align: right;\">\n",
              "      <th></th>\n",
              "      <th>Latitude</th>\n",
              "      <th>Longitude</th>\n",
              "    </tr>\n",
              "  </thead>\n",
              "  <tbody>\n",
              "    <tr>\n",
              "      <th>0</th>\n",
              "      <td>43.766371</td>\n",
              "      <td>-79.504475</td>\n",
              "    </tr>\n",
              "    <tr>\n",
              "      <th>1</th>\n",
              "      <td>43.814861</td>\n",
              "      <td>-79.217083</td>\n",
              "    </tr>\n",
              "    <tr>\n",
              "      <th>2</th>\n",
              "      <td>43.589085</td>\n",
              "      <td>-79.534957</td>\n",
              "    </tr>\n",
              "    <tr>\n",
              "      <th>3</th>\n",
              "      <td>43.703212</td>\n",
              "      <td>-79.346588</td>\n",
              "    </tr>\n",
              "    <tr>\n",
              "      <th>4</th>\n",
              "      <td>43.645247</td>\n",
              "      <td>-79.531916</td>\n",
              "    </tr>\n",
              "    <tr>\n",
              "      <th>...</th>\n",
              "      <td>...</td>\n",
              "      <td>...</td>\n",
              "    </tr>\n",
              "    <tr>\n",
              "      <th>301228</th>\n",
              "      <td>43.790363</td>\n",
              "      <td>-79.455098</td>\n",
              "    </tr>\n",
              "    <tr>\n",
              "      <th>301229</th>\n",
              "      <td>43.775740</td>\n",
              "      <td>-79.234954</td>\n",
              "    </tr>\n",
              "    <tr>\n",
              "      <th>301230</th>\n",
              "      <td>43.765801</td>\n",
              "      <td>-79.281037</td>\n",
              "    </tr>\n",
              "    <tr>\n",
              "      <th>301231</th>\n",
              "      <td>0.000000</td>\n",
              "      <td>0.000000</td>\n",
              "    </tr>\n",
              "    <tr>\n",
              "      <th>301232</th>\n",
              "      <td>43.750849</td>\n",
              "      <td>-79.542092</td>\n",
              "    </tr>\n",
              "  </tbody>\n",
              "</table>\n",
              "<p>301233 rows × 2 columns</p>\n",
              "</div>\n",
              "      <button class=\"colab-df-convert\" onclick=\"convertToInteractive('df-c65dabc2-cb20-4c87-8bfb-82ae824fc94f')\"\n",
              "              title=\"Convert this dataframe to an interactive table.\"\n",
              "              style=\"display:none;\">\n",
              "        \n",
              "  <svg xmlns=\"http://www.w3.org/2000/svg\" height=\"24px\"viewBox=\"0 0 24 24\"\n",
              "       width=\"24px\">\n",
              "    <path d=\"M0 0h24v24H0V0z\" fill=\"none\"/>\n",
              "    <path d=\"M18.56 5.44l.94 2.06.94-2.06 2.06-.94-2.06-.94-.94-2.06-.94 2.06-2.06.94zm-11 1L8.5 8.5l.94-2.06 2.06-.94-2.06-.94L8.5 2.5l-.94 2.06-2.06.94zm10 10l.94 2.06.94-2.06 2.06-.94-2.06-.94-.94-2.06-.94 2.06-2.06.94z\"/><path d=\"M17.41 7.96l-1.37-1.37c-.4-.4-.92-.59-1.43-.59-.52 0-1.04.2-1.43.59L10.3 9.45l-7.72 7.72c-.78.78-.78 2.05 0 2.83L4 21.41c.39.39.9.59 1.41.59.51 0 1.02-.2 1.41-.59l7.78-7.78 2.81-2.81c.8-.78.8-2.07 0-2.86zM5.41 20L4 18.59l7.72-7.72 1.47 1.35L5.41 20z\"/>\n",
              "  </svg>\n",
              "      </button>\n",
              "      \n",
              "  <style>\n",
              "    .colab-df-container {\n",
              "      display:flex;\n",
              "      flex-wrap:wrap;\n",
              "      gap: 12px;\n",
              "    }\n",
              "\n",
              "    .colab-df-convert {\n",
              "      background-color: #E8F0FE;\n",
              "      border: none;\n",
              "      border-radius: 50%;\n",
              "      cursor: pointer;\n",
              "      display: none;\n",
              "      fill: #1967D2;\n",
              "      height: 32px;\n",
              "      padding: 0 0 0 0;\n",
              "      width: 32px;\n",
              "    }\n",
              "\n",
              "    .colab-df-convert:hover {\n",
              "      background-color: #E2EBFA;\n",
              "      box-shadow: 0px 1px 2px rgba(60, 64, 67, 0.3), 0px 1px 3px 1px rgba(60, 64, 67, 0.15);\n",
              "      fill: #174EA6;\n",
              "    }\n",
              "\n",
              "    [theme=dark] .colab-df-convert {\n",
              "      background-color: #3B4455;\n",
              "      fill: #D2E3FC;\n",
              "    }\n",
              "\n",
              "    [theme=dark] .colab-df-convert:hover {\n",
              "      background-color: #434B5C;\n",
              "      box-shadow: 0px 1px 3px 1px rgba(0, 0, 0, 0.15);\n",
              "      filter: drop-shadow(0px 1px 2px rgba(0, 0, 0, 0.3));\n",
              "      fill: #FFFFFF;\n",
              "    }\n",
              "  </style>\n",
              "\n",
              "      <script>\n",
              "        const buttonEl =\n",
              "          document.querySelector('#df-c65dabc2-cb20-4c87-8bfb-82ae824fc94f button.colab-df-convert');\n",
              "        buttonEl.style.display =\n",
              "          google.colab.kernel.accessAllowed ? 'block' : 'none';\n",
              "\n",
              "        async function convertToInteractive(key) {\n",
              "          const element = document.querySelector('#df-c65dabc2-cb20-4c87-8bfb-82ae824fc94f');\n",
              "          const dataTable =\n",
              "            await google.colab.kernel.invokeFunction('convertToInteractive',\n",
              "                                                     [key], {});\n",
              "          if (!dataTable) return;\n",
              "\n",
              "          const docLinkHtml = 'Like what you see? Visit the ' +\n",
              "            '<a target=\"_blank\" href=https://colab.research.google.com/notebooks/data_table.ipynb>data table notebook</a>'\n",
              "            + ' to learn more about interactive tables.';\n",
              "          element.innerHTML = '';\n",
              "          dataTable['output_type'] = 'display_data';\n",
              "          await google.colab.output.renderOutput(dataTable, element);\n",
              "          const docLink = document.createElement('div');\n",
              "          docLink.innerHTML = docLinkHtml;\n",
              "          element.appendChild(docLink);\n",
              "        }\n",
              "      </script>\n",
              "    </div>\n",
              "  </div>\n",
              "  "
            ]
          },
          "metadata": {},
          "execution_count": 87
        }
      ]
    },
    {
      "cell_type": "code",
      "source": [],
      "metadata": {
        "id": "e2ik5qkE1LBq"
      },
      "execution_count": 87,
      "outputs": []
    },
    {
      "cell_type": "code",
      "source": [
        "### Exploring the data to gain insigths\n",
        "### Histogram for each numerical atribute\n",
        "\n",
        "import matplotlib.pyplot as plt\n",
        "data.hist(bins=50, figsize=(12,8))\n",
        "plt.show()"
      ],
      "metadata": {
        "colab": {
          "base_uri": "https://localhost:8080/",
          "height": 499
        },
        "id": "l8EY6bZTs-od",
        "outputId": "1af76d14-b08f-46c1-a468-9273663b2c07"
      },
      "execution_count": 88,
      "outputs": [
        {
          "output_type": "display_data",
          "data": {
            "text/plain": [
              "<Figure size 864x576 with 16 Axes>"
            ],
            "image/png": "[encoded data removed]"
          },
          "metadata": {
            "needs_background": "light"
          }
        }
      ]
    },
    {
      "cell_type": "code",
      "source": [
        "### Exploring the data to gain insigths\n",
        "### Visualizing Goegraphical Data\n",
        "\n",
        "import matplotlib.pyplot as plt\n",
        "data.plot(kind=\"scatter\", x=\"Longitude\", y=\"Latitude\", grid=True)\n",
        "plt.show()"
      ],
      "metadata": {
        "colab": {
          "base_uri": "https://localhost:8080/",
          "height": 279
        },
        "id": "w8-iZk9_tdda",
        "outputId": "dd99b72a-68a7-4430-a453-cd9b9a62894a"
      },
      "execution_count": 89,
      "outputs": [
        {
          "output_type": "display_data",
          "data": {
            "text/plain": [
              "<Figure size 432x288 with 1 Axes>"
            ],
            "image/png": "[encoded data removed]"
          },
          "metadata": {
            "needs_background": "light"
          }
        }
      ]
    },
    {
      "cell_type": "code",
      "source": [
        "### Exploring the data to gain insigths\n",
        "### Looking for correlations\n",
        "\n",
        "corr_matrix = data.corr()\n",
        "corr_matrix [\"ucr_code\"].sort_values(ascending=False)"
      ],
      "metadata": {
        "colab": {
          "base_uri": "https://localhost:8080/"
        },
        "id": "hwEYXPijuVfH",
        "outputId": "2d8a2051-d593-4b54-b6fc-0d4ef969110f"
      },
      "execution_count": 90,
      "outputs": [
        {
          "output_type": "execute_result",
          "data": {
            "text/plain": [
              "ucr_code               1.000000\n",
              "ucr_ext                0.920490\n",
              "occurrenceyear         0.043597\n",
              "Index_                 0.035648\n",
              "ObjectId               0.035639\n",
              "reportedyear           0.034324\n",
              "Y                      0.025611\n",
              "Latitude               0.025505\n",
              "occurrenceday          0.011813\n",
              "occurrencedayofyear    0.008028\n",
              "reporteddayofyear      0.002388\n",
              "reportedday           -0.000665\n",
              "Longitude             -0.025991\n",
              "X                     -0.025991\n",
              "occurrencehour        -0.041091\n",
              "reportedhour          -0.077251\n",
              "Name: ucr_code, dtype: float64"
            ]
          },
          "metadata": {},
          "execution_count": 90
        }
      ]
    },
    {
      "cell_type": "code",
      "source": [
        "### Exploring the data to gain insigths\n",
        "### Looking for correlations - using pandas Scatter Matrix\n",
        "### Scatter Matrix plots every numerical atribute against every other attribite, plus a histogram of each numerical atribute's value on the main diagonal top left to bottom rigth \n",
        "\n",
        "from pandas.plotting import scatter_matrix\n",
        "attributes = [\"ucr_code\", \"ucr_ext\", \"occurrenceyear\", \"reportedyear\", \"occurrenceday\", \"occurrencehour\", \"reportedhour\"]\n",
        "scatter_matrix(data[attributes], figsize=(12,8))\n",
        "plt.show()"
      ],
      "metadata": {
        "colab": {
          "base_uri": "https://localhost:8080/",
          "height": 508
        },
        "id": "X-2zUUGFv34m",
        "outputId": "e44b64d1-b6e8-4e2c-c1f8-becd281aee0b"
      },
      "execution_count": 91,
      "outputs": [
        {
          "output_type": "display_data",
          "data": {
            "text/plain": [
              "<Figure size 864x576 with 49 Axes>"
            ],
            "image/png": "[encoded data removed]"
          },
          "metadata": {
            "needs_background": "light"
          }
        }
      ]
    },
    {
      "cell_type": "code",
      "source": [
        "### Exploring the data to gain insigths\n",
        "### Experiments - Attribute combinations (66)\n",
        "\n",
        "import matplotlib.pyplot as plt\n",
        "data.plot(kind=\"scatter\", x=\"Longitude\", y=\"Latitude\", grid=True)\n",
        "plt.show()"
      ],
      "metadata": {
        "colab": {
          "base_uri": "https://localhost:8080/",
          "height": 279
        },
        "id": "RM_eM2YPxvcu",
        "outputId": "2ba97d5e-a5a1-4c54-82ea-5064e31b56eb"
      },
      "execution_count": 92,
      "outputs": [
        {
          "output_type": "display_data",
          "data": {
            "text/plain": [
              "<Figure size 432x288 with 1 Axes>"
            ],
            "image/png": "[encoded data removed]"
          },
          "metadata": {
            "needs_background": "light"
          }
        }
      ]
    },
    {
      "cell_type": "code",
      "source": [
        "### Clean the data (68)\n",
        "### Get rid of the instance / Get rid of the whole attribute / Set the missing values to some value (zero, median, mean, etc.)\n",
        "### Panda's dataframe > dropna(), drop(), fillna() + Scikit-Learn SimpleImputer\n",
        "### Solving the issue with Latitude and Longitude - ZERO VALUES"
      ],
      "metadata": {
        "id": "8PR8D8KIzqol"
      },
      "execution_count": 93,
      "outputs": []
    },
    {
      "cell_type": "code",
      "source": [
        "### Replace ZERO values for NaN = Not a number\n",
        "###\n",
        "\n",
        "### data.replace(0, np.nan, inplace=True) ### To replace all the columns\n",
        "\n",
        "data['Latitude'].replace(to_replace = 0, value = pd.NA, inplace=True)\n",
        "data['Longitude'].replace(to_replace = 0, value = pd.NA, inplace=True)\n",
        "\n",
        "import matplotlib.pyplot as plt\n",
        "data.plot(kind=\"scatter\", x=\"Longitude\", y=\"Latitude\", grid=True)\n",
        "plt.show()"
      ],
      "metadata": {
        "colab": {
          "base_uri": "https://localhost:8080/",
          "height": 632
        },
        "id": "di1bbOa82_u8",
        "outputId": "fc623b1b-6d52-4edc-da34-341a68f6218c"
      },
      "execution_count": 94,
      "outputs": [
        {
          "output_type": "error",
          "ename": "TypeError",
          "evalue": "ignored",
          "traceback": [
            "\u001b[0;31m---------------------------------------------------------------------------\u001b[0m",
            "\u001b[0;31mTypeError\u001b[0m                                 Traceback (most recent call last)",
            "\u001b[0;32m<ipython-input-94-6bcc789191a2>\u001b[0m in \u001b[0;36m<module>\u001b[0;34m\u001b[0m\n\u001b[1;32m      8\u001b[0m \u001b[0;34m\u001b[0m\u001b[0m\n\u001b[1;32m      9\u001b[0m \u001b[0;32mimport\u001b[0m \u001b[0mmatplotlib\u001b[0m\u001b[0;34m.\u001b[0m\u001b[0mpyplot\u001b[0m \u001b[0;32mas\u001b[0m \u001b[0mplt\u001b[0m\u001b[0;34m\u001b[0m\u001b[0;34m\u001b[0m\u001b[0m\n\u001b[0;32m---> 10\u001b[0;31m \u001b[0mdata\u001b[0m\u001b[0;34m.\u001b[0m\u001b[0mplot\u001b[0m\u001b[0;34m(\u001b[0m\u001b[0mkind\u001b[0m\u001b[0;34m=\u001b[0m\u001b[0;34m\"scatter\"\u001b[0m\u001b[0;34m,\u001b[0m \u001b[0mx\u001b[0m\u001b[0;34m=\u001b[0m\u001b[0;34m\"Longitude\"\u001b[0m\u001b[0;34m,\u001b[0m \u001b[0my\u001b[0m\u001b[0;34m=\u001b[0m\u001b[0;34m\"Latitude\"\u001b[0m\u001b[0;34m,\u001b[0m \u001b[0mgrid\u001b[0m\u001b[0;34m=\u001b[0m\u001b[0;32mTrue\u001b[0m\u001b[0;34m)\u001b[0m\u001b[0;34m\u001b[0m\u001b[0;34m\u001b[0m\u001b[0m\n\u001b[0m\u001b[1;32m     11\u001b[0m \u001b[0mplt\u001b[0m\u001b[0;34m.\u001b[0m\u001b[0mshow\u001b[0m\u001b[0;34m(\u001b[0m\u001b[0;34m)\u001b[0m\u001b[0;34m\u001b[0m\u001b[0;34m\u001b[0m\u001b[0m\n",
            "\u001b[0;32m/usr/local/lib/python3.8/dist-packages/pandas/plotting/_core.py\u001b[0m in \u001b[0;36m__call__\u001b[0;34m(self, *args, **kwargs)\u001b[0m\n\u001b[1;32m    915\u001b[0m         \u001b[0;32mif\u001b[0m \u001b[0mkind\u001b[0m \u001b[0;32min\u001b[0m \u001b[0mself\u001b[0m\u001b[0;34m.\u001b[0m\u001b[0m_dataframe_kinds\u001b[0m\u001b[0;34m:\u001b[0m\u001b[0;34m\u001b[0m\u001b[0;34m\u001b[0m\u001b[0m\n\u001b[1;32m    916\u001b[0m             \u001b[0;32mif\u001b[0m \u001b[0misinstance\u001b[0m\u001b[0;34m(\u001b[0m\u001b[0mdata\u001b[0m\u001b[0;34m,\u001b[0m \u001b[0mABCDataFrame\u001b[0m\u001b[0;34m)\u001b[0m\u001b[0;34m:\u001b[0m\u001b[0;34m\u001b[0m\u001b[0;34m\u001b[0m\u001b[0m\n\u001b[0;32m--> 917\u001b[0;31m                 \u001b[0;32mreturn\u001b[0m \u001b[0mplot_backend\u001b[0m\u001b[0;34m.\u001b[0m\u001b[0mplot\u001b[0m\u001b[0;34m(\u001b[0m\u001b[0mdata\u001b[0m\u001b[0;34m,\u001b[0m \u001b[0mx\u001b[0m\u001b[0;34m=\u001b[0m\u001b[0mx\u001b[0m\u001b[0;34m,\u001b[0m \u001b[0my\u001b[0m\u001b[0;34m=\u001b[0m\u001b[0my\u001b[0m\u001b[0;34m,\u001b[0m \u001b[0mkind\u001b[0m\u001b[0;34m=\u001b[0m\u001b[0mkind\u001b[0m\u001b[0;34m,\u001b[0m \u001b[0;34m**\u001b[0m\u001b[0mkwargs\u001b[0m\u001b[0;34m)\u001b[0m\u001b[0;34m\u001b[0m\u001b[0;34m\u001b[0m\u001b[0m\n\u001b[0m\u001b[1;32m    918\u001b[0m             \u001b[0;32melse\u001b[0m\u001b[0;34m:\u001b[0m\u001b[0;34m\u001b[0m\u001b[0;34m\u001b[0m\u001b[0m\n\u001b[1;32m    919\u001b[0m                 \u001b[0;32mraise\u001b[0m \u001b[0mValueError\u001b[0m\u001b[0;34m(\u001b[0m\u001b[0;34mf\"plot kind {kind} can only be used for data frames\"\u001b[0m\u001b[0;34m)\u001b[0m\u001b[0;34m\u001b[0m\u001b[0;34m\u001b[0m\u001b[0m\n",
            "\u001b[0;32m/usr/local/lib/python3.8/dist-packages/pandas/plotting/_matplotlib/__init__.py\u001b[0m in \u001b[0;36mplot\u001b[0;34m(data, kind, **kwargs)\u001b[0m\n\u001b[1;32m     69\u001b[0m             \u001b[0mkwargs\u001b[0m\u001b[0;34m[\u001b[0m\u001b[0;34m\"ax\"\u001b[0m\u001b[0;34m]\u001b[0m \u001b[0;34m=\u001b[0m \u001b[0mgetattr\u001b[0m\u001b[0;34m(\u001b[0m\u001b[0max\u001b[0m\u001b[0;34m,\u001b[0m \u001b[0;34m\"left_ax\"\u001b[0m\u001b[0;34m,\u001b[0m \u001b[0max\u001b[0m\u001b[0;34m)\u001b[0m\u001b[0;34m\u001b[0m\u001b[0;34m\u001b[0m\u001b[0m\n\u001b[1;32m     70\u001b[0m     \u001b[0mplot_obj\u001b[0m \u001b[0;34m=\u001b[0m \u001b[0mPLOT_CLASSES\u001b[0m\u001b[0;34m[\u001b[0m\u001b[0mkind\u001b[0m\u001b[0;34m]\u001b[0m\u001b[0;34m(\u001b[0m\u001b[0mdata\u001b[0m\u001b[0;34m,\u001b[0m \u001b[0;34m**\u001b[0m\u001b[0mkwargs\u001b[0m\u001b[0;34m)\u001b[0m\u001b[0;34m\u001b[0m\u001b[0;34m\u001b[0m\u001b[0m\n\u001b[0;32m---> 71\u001b[0;31m     \u001b[0mplot_obj\u001b[0m\u001b[0;34m.\u001b[0m\u001b[0mgenerate\u001b[0m\u001b[0;34m(\u001b[0m\u001b[0;34m)\u001b[0m\u001b[0;34m\u001b[0m\u001b[0;34m\u001b[0m\u001b[0m\n\u001b[0m\u001b[1;32m     72\u001b[0m     \u001b[0mplot_obj\u001b[0m\u001b[0;34m.\u001b[0m\u001b[0mdraw\u001b[0m\u001b[0;34m(\u001b[0m\u001b[0;34m)\u001b[0m\u001b[0;34m\u001b[0m\u001b[0;34m\u001b[0m\u001b[0m\n\u001b[1;32m     73\u001b[0m     \u001b[0;32mreturn\u001b[0m \u001b[0mplot_obj\u001b[0m\u001b[0;34m.\u001b[0m\u001b[0mresult\u001b[0m\u001b[0;34m\u001b[0m\u001b[0;34m\u001b[0m\u001b[0m\n",
            "\u001b[0;32m/usr/local/lib/python3.8/dist-packages/pandas/plotting/_matplotlib/core.py\u001b[0m in \u001b[0;36mgenerate\u001b[0;34m(self)\u001b[0m\n\u001b[1;32m    286\u001b[0m         \u001b[0mself\u001b[0m\u001b[0;34m.\u001b[0m\u001b[0m_compute_plot_data\u001b[0m\u001b[0;34m(\u001b[0m\u001b[0;34m)\u001b[0m\u001b[0;34m\u001b[0m\u001b[0;34m\u001b[0m\u001b[0m\n\u001b[1;32m    287\u001b[0m         \u001b[0mself\u001b[0m\u001b[0;34m.\u001b[0m\u001b[0m_setup_subplots\u001b[0m\u001b[0;34m(\u001b[0m\u001b[0;34m)\u001b[0m\u001b[0;34m\u001b[0m\u001b[0;34m\u001b[0m\u001b[0m\n\u001b[0;32m--> 288\u001b[0;31m         \u001b[0mself\u001b[0m\u001b[0;34m.\u001b[0m\u001b[0m_make_plot\u001b[0m\u001b[0;34m(\u001b[0m\u001b[0;34m)\u001b[0m\u001b[0;34m\u001b[0m\u001b[0;34m\u001b[0m\u001b[0m\n\u001b[0m\u001b[1;32m    289\u001b[0m         \u001b[0mself\u001b[0m\u001b[0;34m.\u001b[0m\u001b[0m_add_table\u001b[0m\u001b[0;34m(\u001b[0m\u001b[0;34m)\u001b[0m\u001b[0;34m\u001b[0m\u001b[0;34m\u001b[0m\u001b[0m\n\u001b[1;32m    290\u001b[0m         \u001b[0mself\u001b[0m\u001b[0;34m.\u001b[0m\u001b[0m_make_legend\u001b[0m\u001b[0;34m(\u001b[0m\u001b[0;34m)\u001b[0m\u001b[0;34m\u001b[0m\u001b[0;34m\u001b[0m\u001b[0m\n",
            "\u001b[0;32m/usr/local/lib/python3.8/dist-packages/pandas/plotting/_matplotlib/core.py\u001b[0m in \u001b[0;36m_make_plot\u001b[0;34m(self)\u001b[0m\n\u001b[1;32m   1068\u001b[0m         \u001b[0;32melse\u001b[0m\u001b[0;34m:\u001b[0m\u001b[0;34m\u001b[0m\u001b[0;34m\u001b[0m\u001b[0m\n\u001b[1;32m   1069\u001b[0m             \u001b[0mlabel\u001b[0m \u001b[0;34m=\u001b[0m \u001b[0;32mNone\u001b[0m\u001b[0;34m\u001b[0m\u001b[0;34m\u001b[0m\u001b[0m\n\u001b[0;32m-> 1070\u001b[0;31m         scatter = ax.scatter(\n\u001b[0m\u001b[1;32m   1071\u001b[0m             \u001b[0mdata\u001b[0m\u001b[0;34m[\u001b[0m\u001b[0mx\u001b[0m\u001b[0;34m]\u001b[0m\u001b[0;34m.\u001b[0m\u001b[0mvalues\u001b[0m\u001b[0;34m,\u001b[0m\u001b[0;34m\u001b[0m\u001b[0;34m\u001b[0m\u001b[0m\n\u001b[1;32m   1072\u001b[0m             \u001b[0mdata\u001b[0m\u001b[0;34m[\u001b[0m\u001b[0my\u001b[0m\u001b[0;34m]\u001b[0m\u001b[0;34m.\u001b[0m\u001b[0mvalues\u001b[0m\u001b[0;34m,\u001b[0m\u001b[0;34m\u001b[0m\u001b[0;34m\u001b[0m\u001b[0m\n",
            "\u001b[0;32m/usr/local/lib/python3.8/dist-packages/matplotlib/__init__.py\u001b[0m in \u001b[0;36minner\u001b[0;34m(ax, data, *args, **kwargs)\u001b[0m\n\u001b[1;32m   1563\u001b[0m     \u001b[0;32mdef\u001b[0m \u001b[0minner\u001b[0m\u001b[0;34m(\u001b[0m\u001b[0max\u001b[0m\u001b[0;34m,\u001b[0m \u001b[0;34m*\u001b[0m\u001b[0margs\u001b[0m\u001b[0;34m,\u001b[0m \u001b[0mdata\u001b[0m\u001b[0;34m=\u001b[0m\u001b[0;32mNone\u001b[0m\u001b[0;34m,\u001b[0m \u001b[0;34m**\u001b[0m\u001b[0mkwargs\u001b[0m\u001b[0;34m)\u001b[0m\u001b[0;34m:\u001b[0m\u001b[0;34m\u001b[0m\u001b[0;34m\u001b[0m\u001b[0m\n\u001b[1;32m   1564\u001b[0m         \u001b[0;32mif\u001b[0m \u001b[0mdata\u001b[0m \u001b[0;32mis\u001b[0m \u001b[0;32mNone\u001b[0m\u001b[0;34m:\u001b[0m\u001b[0;34m\u001b[0m\u001b[0;34m\u001b[0m\u001b[0m\n\u001b[0;32m-> 1565\u001b[0;31m             \u001b[0;32mreturn\u001b[0m \u001b[0mfunc\u001b[0m\u001b[0;34m(\u001b[0m\u001b[0max\u001b[0m\u001b[0;34m,\u001b[0m \u001b[0;34m*\u001b[0m\u001b[0mmap\u001b[0m\u001b[0;34m(\u001b[0m\u001b[0msanitize_sequence\u001b[0m\u001b[0;34m,\u001b[0m \u001b[0margs\u001b[0m\u001b[0;34m)\u001b[0m\u001b[0;34m,\u001b[0m \u001b[0;34m**\u001b[0m\u001b[0mkwargs\u001b[0m\u001b[0;34m)\u001b[0m\u001b[0;34m\u001b[0m\u001b[0;34m\u001b[0m\u001b[0m\n\u001b[0m\u001b[1;32m   1566\u001b[0m \u001b[0;34m\u001b[0m\u001b[0m\n\u001b[1;32m   1567\u001b[0m         \u001b[0mbound\u001b[0m \u001b[0;34m=\u001b[0m \u001b[0mnew_sig\u001b[0m\u001b[0;34m.\u001b[0m\u001b[0mbind\u001b[0m\u001b[0;34m(\u001b[0m\u001b[0max\u001b[0m\u001b[0;34m,\u001b[0m \u001b[0;34m*\u001b[0m\u001b[0margs\u001b[0m\u001b[0;34m,\u001b[0m \u001b[0;34m**\u001b[0m\u001b[0mkwargs\u001b[0m\u001b[0;34m)\u001b[0m\u001b[0;34m\u001b[0m\u001b[0;34m\u001b[0m\u001b[0m\n",
            "\u001b[0;32m/usr/local/lib/python3.8/dist-packages/matplotlib/cbook/deprecation.py\u001b[0m in \u001b[0;36mwrapper\u001b[0;34m(*args, **kwargs)\u001b[0m\n\u001b[1;32m    356\u001b[0m                 \u001b[0;34mf\"%(removal)s.  If any parameter follows {name!r}, they \"\u001b[0m\u001b[0;34m\u001b[0m\u001b[0;34m\u001b[0m\u001b[0m\n\u001b[1;32m    357\u001b[0m                 f\"should be pass as keyword, not positionally.\")\n\u001b[0;32m--> 358\u001b[0;31m         \u001b[0;32mreturn\u001b[0m \u001b[0mfunc\u001b[0m\u001b[0;34m(\u001b[0m\u001b[0;34m*\u001b[0m\u001b[0margs\u001b[0m\u001b[0;34m,\u001b[0m \u001b[0;34m**\u001b[0m\u001b[0mkwargs\u001b[0m\u001b[0;34m)\u001b[0m\u001b[0;34m\u001b[0m\u001b[0;34m\u001b[0m\u001b[0m\n\u001b[0m\u001b[1;32m    359\u001b[0m \u001b[0;34m\u001b[0m\u001b[0m\n\u001b[1;32m    360\u001b[0m     \u001b[0;32mreturn\u001b[0m \u001b[0mwrapper\u001b[0m\u001b[0;34m\u001b[0m\u001b[0;34m\u001b[0m\u001b[0m\n",
            "\u001b[0;32m/usr/local/lib/python3.8/dist-packages/matplotlib/axes/_axes.py\u001b[0m in \u001b[0;36mscatter\u001b[0;34m(self, x, y, s, c, marker, cmap, norm, vmin, vmax, alpha, linewidths, verts, edgecolors, plotnonfinite, **kwargs)\u001b[0m\n\u001b[1;32m   4431\u001b[0m         \u001b[0moffsets\u001b[0m \u001b[0;34m=\u001b[0m \u001b[0mnp\u001b[0m\u001b[0;34m.\u001b[0m\u001b[0mma\u001b[0m\u001b[0;34m.\u001b[0m\u001b[0mcolumn_stack\u001b[0m\u001b[0;34m(\u001b[0m\u001b[0;34m[\u001b[0m\u001b[0mx\u001b[0m\u001b[0;34m,\u001b[0m \u001b[0my\u001b[0m\u001b[0;34m]\u001b[0m\u001b[0;34m)\u001b[0m\u001b[0;34m\u001b[0m\u001b[0;34m\u001b[0m\u001b[0m\n\u001b[1;32m   4432\u001b[0m \u001b[0;34m\u001b[0m\u001b[0m\n\u001b[0;32m-> 4433\u001b[0;31m         collection = mcoll.PathCollection(\n\u001b[0m\u001b[1;32m   4434\u001b[0m                 \u001b[0;34m(\u001b[0m\u001b[0mpath\u001b[0m\u001b[0;34m,\u001b[0m\u001b[0;34m)\u001b[0m\u001b[0;34m,\u001b[0m \u001b[0mscales\u001b[0m\u001b[0;34m,\u001b[0m\u001b[0;34m\u001b[0m\u001b[0;34m\u001b[0m\u001b[0m\n\u001b[1;32m   4435\u001b[0m                 \u001b[0mfacecolors\u001b[0m\u001b[0;34m=\u001b[0m\u001b[0mcolors\u001b[0m\u001b[0;34m,\u001b[0m\u001b[0;34m\u001b[0m\u001b[0;34m\u001b[0m\u001b[0m\n",
            "\u001b[0;32m/usr/local/lib/python3.8/dist-packages/matplotlib/collections.py\u001b[0m in \u001b[0;36m__init__\u001b[0;34m(self, paths, sizes, **kwargs)\u001b[0m\n\u001b[1;32m    909\u001b[0m         \"\"\"\n\u001b[1;32m    910\u001b[0m \u001b[0;34m\u001b[0m\u001b[0m\n\u001b[0;32m--> 911\u001b[0;31m         \u001b[0mCollection\u001b[0m\u001b[0;34m.\u001b[0m\u001b[0m__init__\u001b[0m\u001b[0;34m(\u001b[0m\u001b[0mself\u001b[0m\u001b[0;34m,\u001b[0m \u001b[0;34m**\u001b[0m\u001b[0mkwargs\u001b[0m\u001b[0;34m)\u001b[0m\u001b[0;34m\u001b[0m\u001b[0;34m\u001b[0m\u001b[0m\n\u001b[0m\u001b[1;32m    912\u001b[0m         \u001b[0mself\u001b[0m\u001b[0;34m.\u001b[0m\u001b[0mset_paths\u001b[0m\u001b[0;34m(\u001b[0m\u001b[0mpaths\u001b[0m\u001b[0;34m)\u001b[0m\u001b[0;34m\u001b[0m\u001b[0;34m\u001b[0m\u001b[0m\n\u001b[1;32m    913\u001b[0m         \u001b[0mself\u001b[0m\u001b[0;34m.\u001b[0m\u001b[0mset_sizes\u001b[0m\u001b[0;34m(\u001b[0m\u001b[0msizes\u001b[0m\u001b[0;34m)\u001b[0m\u001b[0;34m\u001b[0m\u001b[0;34m\u001b[0m\u001b[0m\n",
            "\u001b[0;32m/usr/local/lib/python3.8/dist-packages/matplotlib/collections.py\u001b[0m in \u001b[0;36m__init__\u001b[0;34m(self, edgecolors, facecolors, linewidths, linestyles, capstyle, joinstyle, antialiaseds, offsets, transOffset, norm, cmap, pickradius, hatch, urls, offset_position, zorder, **kwargs)\u001b[0m\n\u001b[1;32m    151\u001b[0m         \u001b[0mself\u001b[0m\u001b[0;34m.\u001b[0m\u001b[0m_uniform_offsets\u001b[0m \u001b[0;34m=\u001b[0m \u001b[0;32mNone\u001b[0m\u001b[0;34m\u001b[0m\u001b[0;34m\u001b[0m\u001b[0m\n\u001b[1;32m    152\u001b[0m         \u001b[0;32mif\u001b[0m \u001b[0moffsets\u001b[0m \u001b[0;32mis\u001b[0m \u001b[0;32mnot\u001b[0m \u001b[0;32mNone\u001b[0m\u001b[0;34m:\u001b[0m\u001b[0;34m\u001b[0m\u001b[0;34m\u001b[0m\u001b[0m\n\u001b[0;32m--> 153\u001b[0;31m             \u001b[0moffsets\u001b[0m \u001b[0;34m=\u001b[0m \u001b[0mnp\u001b[0m\u001b[0;34m.\u001b[0m\u001b[0masanyarray\u001b[0m\u001b[0;34m(\u001b[0m\u001b[0moffsets\u001b[0m\u001b[0;34m,\u001b[0m \u001b[0mfloat\u001b[0m\u001b[0;34m)\u001b[0m\u001b[0;34m\u001b[0m\u001b[0;34m\u001b[0m\u001b[0m\n\u001b[0m\u001b[1;32m    154\u001b[0m             \u001b[0;31m# Broadcast (2,) -> (1, 2) but nothing else.\u001b[0m\u001b[0;34m\u001b[0m\u001b[0;34m\u001b[0m\u001b[0;34m\u001b[0m\u001b[0m\n\u001b[1;32m    155\u001b[0m             \u001b[0;32mif\u001b[0m \u001b[0moffsets\u001b[0m\u001b[0;34m.\u001b[0m\u001b[0mshape\u001b[0m \u001b[0;34m==\u001b[0m \u001b[0;34m(\u001b[0m\u001b[0;36m2\u001b[0m\u001b[0;34m,\u001b[0m\u001b[0;34m)\u001b[0m\u001b[0;34m:\u001b[0m\u001b[0;34m\u001b[0m\u001b[0;34m\u001b[0m\u001b[0m\n",
            "\u001b[0;31mTypeError\u001b[0m: float() argument must be a string or a number, not 'NAType'"
          ]
        },
        {
          "output_type": "display_data",
          "data": {
            "text/plain": [
              "<Figure size 432x288 with 1 Axes>"
            ],
            "image/png": "[encoded data removed]"
          },
          "metadata": {
            "needs_background": "light"
          }
        }
      ]
    },
    {
      "cell_type": "code",
      "source": [
        "### Replace ZERO values for NaN = Not a number\n",
        "###\n",
        "import matplotlib.pyplot as plt\n",
        "data.plot(kind=\"scatter\", x=\"Longitude\", y=\"Latitude\", grid=True, \n",
        "          s=data[\"reportedyear\"], label = \"year\",\n",
        "          c=\"reportedyear\", cmap=\"jet\", colorbar=True, \n",
        "          legend=True, sharex=False, figsize=(10,7))\n",
        "plt.show()"
      ],
      "metadata": {
        "id": "MM918EiU5iFR"
      },
      "execution_count": null,
      "outputs": []
    },
    {
      "cell_type": "code",
      "source": [],
      "metadata": {
        "id": "B-9baQcR7a31"
      },
      "execution_count": null,
      "outputs": []
    }
  ]
}